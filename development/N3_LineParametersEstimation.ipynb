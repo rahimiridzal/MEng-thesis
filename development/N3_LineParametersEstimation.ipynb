{
 "cells": [
  {
   "cell_type": "markdown",
   "metadata": {},
   "source": [
    "## Line Parameters Estimation"
   ]
  },
  {
   "cell_type": "markdown",
   "metadata": {},
   "source": [
    "### Load Package"
   ]
  },
  {
   "cell_type": "code",
   "execution_count": 1,
   "metadata": {},
   "outputs": [],
   "source": [
    "using CSV, DataFrames\n",
    "using Combinatorics"
   ]
  },
  {
   "cell_type": "markdown",
   "metadata": {},
   "source": [
    "### Load Data"
   ]
  },
  {
   "cell_type": "code",
   "execution_count": 2,
   "metadata": {},
   "outputs": [],
   "source": [
    "# network data\n",
    "nodes = CSV.read(joinpath(\"..\",\"data\",\"NordicBaltic\",\"nodes.csv\"),DataFrame)\n",
    "generators = CSV.read(joinpath(\"..\",\"data\",\"NordicBaltic\",\"generators.csv\"),DataFrame)\n",
    "ehvacs = CSV.read(joinpath(\"..\",\"data\",\"NordicBaltic\",\"existing_hvacs.csv\"),DataFrame)\n",
    "ehvdcs = CSV.read(joinpath(\"..\",\"data\",\"NordicBaltic\",\"existing_hvdcs.csv\"),DataFrame);"
   ]
  },
  {
   "cell_type": "code",
   "execution_count": 3,
   "metadata": {},
   "outputs": [
    {
     "data": {
      "text/html": [
       "<div><div style = \"float: left;\"><span>6×12 DataFrame</span></div><div style = \"clear: both;\"></div></div><div class = \"data-frame\" style = \"overflow-x: scroll;\"><table class = \"data-frame\" style = \"margin-bottom: 6px;\"><thead><tr class = \"header\"><th class = \"rowNumber\" style = \"font-weight: bold; text-align: right;\">Row</th><th style = \"text-align: left;\">id</th><th style = \"text-align: left;\">name</th><th style = \"text-align: left;\">f_node</th><th style = \"text-align: left;\">f_node_name</th><th style = \"text-align: left;\">t_node</th><th style = \"text-align: left;\">t_node_name</th><th style = \"text-align: left;\">f_area</th><th style = \"text-align: left;\">f_area_name</th><th style = \"text-align: left;\">t_area</th><th style = \"text-align: left;\">t_area_name</th><th style = \"text-align: left;\">existing_capacity</th><th style = \"text-align: left;\">efficiency</th></tr><tr class = \"subheader headerLastRow\"><th class = \"rowNumber\" style = \"font-weight: bold; text-align: right;\"></th><th title = \"Int64\" style = \"text-align: left;\">Int64</th><th title = \"String15\" style = \"text-align: left;\">String15</th><th title = \"Int64\" style = \"text-align: left;\">Int64</th><th title = \"String15\" style = \"text-align: left;\">String15</th><th title = \"Int64\" style = \"text-align: left;\">Int64</th><th title = \"String7\" style = \"text-align: left;\">String7</th><th title = \"Int64\" style = \"text-align: left;\">Int64</th><th title = \"String7\" style = \"text-align: left;\">String7</th><th title = \"Int64\" style = \"text-align: left;\">Int64</th><th title = \"String7\" style = \"text-align: left;\">String7</th><th title = \"Int64\" style = \"text-align: left;\">Int64</th><th title = \"Int64\" style = \"text-align: left;\">Int64</th></tr></thead><tbody><tr><td class = \"rowNumber\" style = \"font-weight: bold; text-align: right;\">1</td><td style = \"text-align: right;\">1</td><td style = \"text-align: left;\">link_NO_SE</td><td style = \"text-align: right;\">7</td><td style = \"text-align: left;\">Norway</td><td style = \"text-align: right;\">6</td><td style = \"text-align: left;\">Sweden</td><td style = \"text-align: right;\">1</td><td style = \"text-align: left;\">Nordic</td><td style = \"text-align: right;\">1</td><td style = \"text-align: left;\">Nordic</td><td style = \"text-align: right;\">3787</td><td style = \"text-align: right;\">1</td></tr><tr><td class = \"rowNumber\" style = \"font-weight: bold; text-align: right;\">2</td><td style = \"text-align: right;\">2</td><td style = \"text-align: left;\">line_SE_DK</td><td style = \"text-align: right;\">6</td><td style = \"text-align: left;\">Sweden</td><td style = \"text-align: right;\">1</td><td style = \"text-align: left;\">Denmark</td><td style = \"text-align: right;\">1</td><td style = \"text-align: left;\">Nordic</td><td style = \"text-align: right;\">1</td><td style = \"text-align: left;\">Nordic</td><td style = \"text-align: right;\">507</td><td style = \"text-align: right;\">1</td></tr><tr><td class = \"rowNumber\" style = \"font-weight: bold; text-align: right;\">3</td><td style = \"text-align: right;\">3</td><td style = \"text-align: left;\">line_LV_EE</td><td style = \"text-align: right;\">4</td><td style = \"text-align: left;\">Latvia</td><td style = \"text-align: right;\">2</td><td style = \"text-align: left;\">Estonia</td><td style = \"text-align: right;\">2</td><td style = \"text-align: left;\">Baltic</td><td style = \"text-align: right;\">2</td><td style = \"text-align: left;\">Baltic</td><td style = \"text-align: right;\">1159</td><td style = \"text-align: right;\">1</td></tr><tr><td class = \"rowNumber\" style = \"font-weight: bold; text-align: right;\">4</td><td style = \"text-align: right;\">4</td><td style = \"text-align: left;\">line_LT_LV</td><td style = \"text-align: right;\">5</td><td style = \"text-align: left;\">Lithuania</td><td style = \"text-align: right;\">4</td><td style = \"text-align: left;\">Latvia</td><td style = \"text-align: right;\">2</td><td style = \"text-align: left;\">Baltic</td><td style = \"text-align: right;\">2</td><td style = \"text-align: left;\">Baltic</td><td style = \"text-align: right;\">910</td><td style = \"text-align: right;\">1</td></tr><tr><td class = \"rowNumber\" style = \"font-weight: bold; text-align: right;\">5</td><td style = \"text-align: right;\">5</td><td style = \"text-align: left;\">line_FI_NO</td><td style = \"text-align: right;\">3</td><td style = \"text-align: left;\">Finland</td><td style = \"text-align: right;\">7</td><td style = \"text-align: left;\">Norway</td><td style = \"text-align: right;\">1</td><td style = \"text-align: left;\">Nordic</td><td style = \"text-align: right;\">1</td><td style = \"text-align: left;\">Nordic</td><td style = \"text-align: right;\">120</td><td style = \"text-align: right;\">1</td></tr><tr><td class = \"rowNumber\" style = \"font-weight: bold; text-align: right;\">6</td><td style = \"text-align: right;\">6</td><td style = \"text-align: left;\">line_FI_SE</td><td style = \"text-align: right;\">3</td><td style = \"text-align: left;\">Finland</td><td style = \"text-align: right;\">6</td><td style = \"text-align: left;\">Sweden</td><td style = \"text-align: right;\">1</td><td style = \"text-align: left;\">Nordic</td><td style = \"text-align: right;\">1</td><td style = \"text-align: left;\">Nordic</td><td style = \"text-align: right;\">2607</td><td style = \"text-align: right;\">1</td></tr></tbody></table></div>"
      ],
      "text/latex": [
       "\\begin{tabular}{r|ccccccccc}\n",
       "\t& id & name & f\\_node & f\\_node\\_name & t\\_node & t\\_node\\_name & f\\_area & f\\_area\\_name & \\\\\n",
       "\t\\hline\n",
       "\t& Int64 & String15 & Int64 & String15 & Int64 & String7 & Int64 & String7 & \\\\\n",
       "\t\\hline\n",
       "\t1 & 1 & link\\_NO\\_SE & 7 & Norway & 6 & Sweden & 1 & Nordic & $\\dots$ \\\\\n",
       "\t2 & 2 & line\\_SE\\_DK & 6 & Sweden & 1 & Denmark & 1 & Nordic & $\\dots$ \\\\\n",
       "\t3 & 3 & line\\_LV\\_EE & 4 & Latvia & 2 & Estonia & 2 & Baltic & $\\dots$ \\\\\n",
       "\t4 & 4 & line\\_LT\\_LV & 5 & Lithuania & 4 & Latvia & 2 & Baltic & $\\dots$ \\\\\n",
       "\t5 & 5 & line\\_FI\\_NO & 3 & Finland & 7 & Norway & 1 & Nordic & $\\dots$ \\\\\n",
       "\t6 & 6 & line\\_FI\\_SE & 3 & Finland & 6 & Sweden & 1 & Nordic & $\\dots$ \\\\\n",
       "\\end{tabular}\n"
      ],
      "text/plain": [
       "\u001b[1m6×12 DataFrame\u001b[0m\n",
       "\u001b[1m Row \u001b[0m│\u001b[1m id    \u001b[0m\u001b[1m name       \u001b[0m\u001b[1m f_node \u001b[0m\u001b[1m f_node_name \u001b[0m\u001b[1m t_node \u001b[0m\u001b[1m t_node_name \u001b[0m\u001b[1m f_area \u001b[0m\u001b[1m f_\u001b[0m ⋯\n",
       "     │\u001b[90m Int64 \u001b[0m\u001b[90m String15   \u001b[0m\u001b[90m Int64  \u001b[0m\u001b[90m String15    \u001b[0m\u001b[90m Int64  \u001b[0m\u001b[90m String7     \u001b[0m\u001b[90m Int64  \u001b[0m\u001b[90m St\u001b[0m ⋯\n",
       "─────┼──────────────────────────────────────────────────────────────────────────\n",
       "   1 │     1  link_NO_SE       7  Norway            6  Sweden            1  No ⋯\n",
       "   2 │     2  line_SE_DK       6  Sweden            1  Denmark           1  No\n",
       "   3 │     3  line_LV_EE       4  Latvia            2  Estonia           2  Ba\n",
       "   4 │     4  line_LT_LV       5  Lithuania         4  Latvia            2  Ba\n",
       "   5 │     5  line_FI_NO       3  Finland           7  Norway            1  No ⋯\n",
       "   6 │     6  line_FI_SE       3  Finland           6  Sweden            1  No\n",
       "\u001b[36m                                                               5 columns omitted\u001b[0m"
      ]
     },
     "metadata": {},
     "output_type": "display_data"
    }
   ],
   "source": [
    "ehvacs"
   ]
  },
  {
   "cell_type": "markdown",
   "metadata": {},
   "source": [
    "### Helper function: getHaversineDistance()"
   ]
  },
  {
   "cell_type": "code",
   "execution_count": 4,
   "metadata": {},
   "outputs": [
    {
     "data": {
      "text/plain": [
       "getHaversineDistance (generic function with 1 method)"
      ]
     },
     "metadata": {},
     "output_type": "display_data"
    }
   ],
   "source": [
    "function getHaversineDistance(latitude_1, longitude_1, latitude_2, longitude_2)\n",
    "    R = 6371e3\n",
    "    phi1 = latitude_1 * pi/180\n",
    "    phi2 = latitude_2 * pi/180\n",
    "    deltaphi = (latitude_2 - latitude_1) * pi/180\n",
    "    deltalambda = (longitude_2 - longitude_1) * pi/180\n",
    "    a = sin(deltaphi/2)^2 + cos(phi1) * cos(phi2) * sin(deltalambda/2)^2\n",
    "    c = 2 * atan(sqrt(a), sqrt(1-a))\n",
    "    d = R * c\n",
    "    return d * 1e-3\n",
    "end"
   ]
  },
  {
   "cell_type": "markdown",
   "metadata": {},
   "source": [
    "### Helper function: getFullCandidateLines()"
   ]
  },
  {
   "cell_type": "code",
   "execution_count": 5,
   "metadata": {},
   "outputs": [
    {
     "data": {
      "text/plain": [
       "getFullCandidateLines (generic function with 1 method)"
      ]
     },
     "metadata": {},
     "output_type": "display_data"
    }
   ],
   "source": [
    "function getFullCandidateLines(nodes,elines;ignore_area=true,hvdc=false,kv_nom=400)\n",
    "    clines = Vector()\n",
    "    if ignore_area\n",
    "        clines = collect(Iterators.flatten(combinations(nodes.id,2)))\n",
    "    else\n",
    "        for a in unique(nodes.area)\n",
    "            append!(clines, collect(Iterators.flatten(combinations(nodes[nodes.area.==a,:id],2))))\n",
    "        end\n",
    "    end\n",
    "    clines = Array(reshape(clines,(2,:))')\n",
    "    clines = DataFrame(clines,[\"f_node\",\"t_node\"])\n",
    "    clines[!,:length] =  map(getHaversineDistance, \n",
    "        nodes[clines.f_node,:latitude], nodes[clines.f_node,:longitude], \n",
    "        nodes[clines.t_node,:latitude], nodes[clines.t_node,:longitude])\n",
    "    if hvdc\n",
    "        clines[!,:r] = clines.length .* 0.0378 ./ ((kv_nom*1e3)^2/100e6)\n",
    "    else\n",
    "        clines[!,:x] = clines.length .* 0.327 ./ ((kv_nom*1e3)^2/100e6)\n",
    "    end\n",
    "    clines[!,:existing_capacity] .= 0\n",
    "    for (f,t) in zip(elines.f_node,elines.t_node)\n",
    "        if isempty(clines[(clines.f_node.==f).&(clines.t_node.==t),:])\n",
    "            if isempty(clines[(clines.f_node.==t).&(clines.t_node.==f),:])\n",
    "            else\n",
    "                clines[(clines.f_node.==t).&(clines.t_node.==f),:existing_capacity] .= \n",
    "                    elines[(elines.f_node.==f).&(elines.t_node.==t),:existing_capacity][1]\n",
    "            end\n",
    "        else\n",
    "            clines[(clines.f_node.==f).&(clines.t_node.==t),:existing_capacity] .=\n",
    "                elines[(elines.f_node.==f).&(elines.t_node.==t),:existing_capacity][1]\n",
    "        end\n",
    "    end\n",
    "    clines.f_area = nodes[clines.f_node,:area]\n",
    "    clines.t_area = nodes[clines.t_node,:area]\n",
    "    clines\n",
    "end"
   ]
  },
  {
   "cell_type": "code",
   "execution_count": 6,
   "metadata": {},
   "outputs": [],
   "source": []
  },
  {
   "cell_type": "markdown",
   "metadata": {},
   "source": [
    "### Get full set of hvac candidate lines"
   ]
  },
  {
   "cell_type": "code",
   "execution_count": 7,
   "metadata": {},
   "outputs": [
    {
     "data": {
      "text/html": [
       "<div><div style = \"float: left;\"><span>9×7 DataFrame</span></div><div style = \"clear: both;\"></div></div><div class = \"data-frame\" style = \"overflow-x: scroll;\"><table class = \"data-frame\" style = \"margin-bottom: 6px;\"><thead><tr class = \"header\"><th class = \"rowNumber\" style = \"font-weight: bold; text-align: right;\">Row</th><th style = \"text-align: left;\">f_node</th><th style = \"text-align: left;\">t_node</th><th style = \"text-align: left;\">length</th><th style = \"text-align: left;\">x</th><th style = \"text-align: left;\">existing_capacity</th><th style = \"text-align: left;\">f_area</th><th style = \"text-align: left;\">t_area</th></tr><tr class = \"subheader headerLastRow\"><th class = \"rowNumber\" style = \"font-weight: bold; text-align: right;\"></th><th title = \"Any\" style = \"text-align: left;\">Any</th><th title = \"Any\" style = \"text-align: left;\">Any</th><th title = \"Float64\" style = \"text-align: left;\">Float64</th><th title = \"Float64\" style = \"text-align: left;\">Float64</th><th title = \"Int64\" style = \"text-align: left;\">Int64</th><th title = \"Int64\" style = \"text-align: left;\">Int64</th><th title = \"Int64\" style = \"text-align: left;\">Int64</th></tr></thead><tbody><tr><td class = \"rowNumber\" style = \"font-weight: bold; text-align: right;\">1</td><td style = \"text-align: left;\">1</td><td style = \"text-align: left;\">3</td><td style = \"text-align: right;\">1167.18</td><td style = \"text-align: right;\">0.264314</td><td style = \"text-align: right;\">0</td><td style = \"text-align: right;\">1</td><td style = \"text-align: right;\">1</td></tr><tr><td class = \"rowNumber\" style = \"font-weight: bold; text-align: right;\">2</td><td style = \"text-align: left;\">1</td><td style = \"text-align: left;\">6</td><td style = \"text-align: right;\">296.174</td><td style = \"text-align: right;\">0.0670699</td><td style = \"text-align: right;\">507</td><td style = \"text-align: right;\">1</td><td style = \"text-align: right;\">1</td></tr><tr><td class = \"rowNumber\" style = \"font-weight: bold; text-align: right;\">3</td><td style = \"text-align: left;\">1</td><td style = \"text-align: left;\">7</td><td style = \"text-align: right;\">544.403</td><td style = \"text-align: right;\">0.123282</td><td style = \"text-align: right;\">0</td><td style = \"text-align: right;\">1</td><td style = \"text-align: right;\">1</td></tr><tr><td class = \"rowNumber\" style = \"font-weight: bold; text-align: right;\">4</td><td style = \"text-align: left;\">3</td><td style = \"text-align: left;\">6</td><td style = \"text-align: right;\">925.963</td><td style = \"text-align: right;\">0.209688</td><td style = \"text-align: right;\">2607</td><td style = \"text-align: right;\">1</td><td style = \"text-align: right;\">1</td></tr><tr><td class = \"rowNumber\" style = \"font-weight: bold; text-align: right;\">5</td><td style = \"text-align: left;\">3</td><td style = \"text-align: left;\">7</td><td style = \"text-align: right;\">971.048</td><td style = \"text-align: right;\">0.219898</td><td style = \"text-align: right;\">120</td><td style = \"text-align: right;\">1</td><td style = \"text-align: right;\">1</td></tr><tr><td class = \"rowNumber\" style = \"font-weight: bold; text-align: right;\">6</td><td style = \"text-align: left;\">6</td><td style = \"text-align: left;\">7</td><td style = \"text-align: right;\">605.283</td><td style = \"text-align: right;\">0.137069</td><td style = \"text-align: right;\">3787</td><td style = \"text-align: right;\">1</td><td style = \"text-align: right;\">1</td></tr><tr><td class = \"rowNumber\" style = \"font-weight: bold; text-align: right;\">7</td><td style = \"text-align: left;\">2</td><td style = \"text-align: left;\">4</td><td style = \"text-align: right;\">184.043</td><td style = \"text-align: right;\">0.0416772</td><td style = \"text-align: right;\">1159</td><td style = \"text-align: right;\">2</td><td style = \"text-align: right;\">2</td></tr><tr><td class = \"rowNumber\" style = \"font-weight: bold; text-align: right;\">8</td><td style = \"text-align: left;\">2</td><td style = \"text-align: left;\">5</td><td style = \"text-align: right;\">495.579</td><td style = \"text-align: right;\">0.112226</td><td style = \"text-align: right;\">0</td><td style = \"text-align: right;\">2</td><td style = \"text-align: right;\">2</td></tr><tr><td class = \"rowNumber\" style = \"font-weight: bold; text-align: right;\">9</td><td style = \"text-align: left;\">4</td><td style = \"text-align: left;\">5</td><td style = \"text-align: right;\">322.054</td><td style = \"text-align: right;\">0.0729304</td><td style = \"text-align: right;\">910</td><td style = \"text-align: right;\">2</td><td style = \"text-align: right;\">2</td></tr></tbody></table></div>"
      ],
      "text/latex": [
       "\\begin{tabular}{r|ccccccc}\n",
       "\t& f\\_node & t\\_node & length & x & existing\\_capacity & f\\_area & t\\_area\\\\\n",
       "\t\\hline\n",
       "\t& Any & Any & Float64 & Float64 & Int64 & Int64 & Int64\\\\\n",
       "\t\\hline\n",
       "\t1 & 1 & 3 & 1167.18 & 0.264314 & 0 & 1 & 1 \\\\\n",
       "\t2 & 1 & 6 & 296.174 & 0.0670699 & 507 & 1 & 1 \\\\\n",
       "\t3 & 1 & 7 & 544.403 & 0.123282 & 0 & 1 & 1 \\\\\n",
       "\t4 & 3 & 6 & 925.963 & 0.209688 & 2607 & 1 & 1 \\\\\n",
       "\t5 & 3 & 7 & 971.048 & 0.219898 & 120 & 1 & 1 \\\\\n",
       "\t6 & 6 & 7 & 605.283 & 0.137069 & 3787 & 1 & 1 \\\\\n",
       "\t7 & 2 & 4 & 184.043 & 0.0416772 & 1159 & 2 & 2 \\\\\n",
       "\t8 & 2 & 5 & 495.579 & 0.112226 & 0 & 2 & 2 \\\\\n",
       "\t9 & 4 & 5 & 322.054 & 0.0729304 & 910 & 2 & 2 \\\\\n",
       "\\end{tabular}\n"
      ],
      "text/plain": [
       "\u001b[1m9×7 DataFrame\u001b[0m\n",
       "\u001b[1m Row \u001b[0m│\u001b[1m f_node \u001b[0m\u001b[1m t_node \u001b[0m\u001b[1m length   \u001b[0m\u001b[1m x         \u001b[0m\u001b[1m existing_capacity \u001b[0m\u001b[1m f_area \u001b[0m\u001b[1m t_area \u001b[0m\n",
       "     │\u001b[90m Any    \u001b[0m\u001b[90m Any    \u001b[0m\u001b[90m Float64  \u001b[0m\u001b[90m Float64   \u001b[0m\u001b[90m Int64             \u001b[0m\u001b[90m Int64  \u001b[0m\u001b[90m Int64  \u001b[0m\n",
       "─────┼────────────────────────────────────────────────────────────────────────\n",
       "   1 │ 1       3       1167.18   0.264314                   0       1       1\n",
       "   2 │ 1       6        296.174  0.0670699                507       1       1\n",
       "   3 │ 1       7        544.403  0.123282                   0       1       1\n",
       "   4 │ 3       6        925.963  0.209688                2607       1       1\n",
       "   5 │ 3       7        971.048  0.219898                 120       1       1\n",
       "   6 │ 6       7        605.283  0.137069                3787       1       1\n",
       "   7 │ 2       4        184.043  0.0416772               1159       2       2\n",
       "   8 │ 2       5        495.579  0.112226                   0       2       2\n",
       "   9 │ 4       5        322.054  0.0729304                910       2       2"
      ]
     },
     "metadata": {},
     "output_type": "display_data"
    }
   ],
   "source": [
    "chvacs = getFullCandidateLines(nodes,ehvacs;ignore_area=false,hvdc=false,kv_nom=380)\n",
    "chvacs.f_area  = nodes[chvacs.f_node,:area]\n",
    "chvacs"
   ]
  },
  {
   "cell_type": "markdown",
   "metadata": {},
   "source": [
    "### Get full set of hvdc candidate lines"
   ]
  },
  {
   "cell_type": "code",
   "execution_count": 8,
   "metadata": {},
   "outputs": [
    {
     "data": {
      "text/html": [
       "<div><div style = \"float: left;\"><span>21×7 DataFrame</span></div><div style = \"clear: both;\"></div></div><div class = \"data-frame\" style = \"overflow-x: scroll;\"><table class = \"data-frame\" style = \"margin-bottom: 6px;\"><thead><tr class = \"header\"><th class = \"rowNumber\" style = \"font-weight: bold; text-align: right;\">Row</th><th style = \"text-align: left;\">f_node</th><th style = \"text-align: left;\">t_node</th><th style = \"text-align: left;\">length</th><th style = \"text-align: left;\">r</th><th style = \"text-align: left;\">existing_capacity</th><th style = \"text-align: left;\">f_area</th><th style = \"text-align: left;\">t_area</th></tr><tr class = \"subheader headerLastRow\"><th class = \"rowNumber\" style = \"font-weight: bold; text-align: right;\"></th><th title = \"Int64\" style = \"text-align: left;\">Int64</th><th title = \"Int64\" style = \"text-align: left;\">Int64</th><th title = \"Float64\" style = \"text-align: left;\">Float64</th><th title = \"Float64\" style = \"text-align: left;\">Float64</th><th title = \"Int64\" style = \"text-align: left;\">Int64</th><th title = \"Int64\" style = \"text-align: left;\">Int64</th><th title = \"Int64\" style = \"text-align: left;\">Int64</th></tr></thead><tbody><tr><td class = \"rowNumber\" style = \"font-weight: bold; text-align: right;\">1</td><td style = \"text-align: right;\">1</td><td style = \"text-align: right;\">2</td><td style = \"text-align: right;\">1006.15</td><td style = \"text-align: right;\">0.0263382</td><td style = \"text-align: right;\">0</td><td style = \"text-align: right;\">1</td><td style = \"text-align: right;\">2</td></tr><tr><td class = \"rowNumber\" style = \"font-weight: bold; text-align: right;\">2</td><td style = \"text-align: right;\">1</td><td style = \"text-align: right;\">3</td><td style = \"text-align: right;\">1167.18</td><td style = \"text-align: right;\">0.0305537</td><td style = \"text-align: right;\">0</td><td style = \"text-align: right;\">1</td><td style = \"text-align: right;\">1</td></tr><tr><td class = \"rowNumber\" style = \"font-weight: bold; text-align: right;\">3</td><td style = \"text-align: right;\">1</td><td style = \"text-align: right;\">4</td><td style = \"text-align: right;\">982.022</td><td style = \"text-align: right;\">0.0257067</td><td style = \"text-align: right;\">0</td><td style = \"text-align: right;\">1</td><td style = \"text-align: right;\">2</td></tr><tr><td class = \"rowNumber\" style = \"font-weight: bold; text-align: right;\">4</td><td style = \"text-align: right;\">1</td><td style = \"text-align: right;\">5</td><td style = \"text-align: right;\">885.507</td><td style = \"text-align: right;\">0.0231802</td><td style = \"text-align: right;\">0</td><td style = \"text-align: right;\">1</td><td style = \"text-align: right;\">2</td></tr><tr><td class = \"rowNumber\" style = \"font-weight: bold; text-align: right;\">5</td><td style = \"text-align: right;\">1</td><td style = \"text-align: right;\">6</td><td style = \"text-align: right;\">296.174</td><td style = \"text-align: right;\">0.00775304</td><td style = \"text-align: right;\">0</td><td style = \"text-align: right;\">1</td><td style = \"text-align: right;\">1</td></tr><tr><td class = \"rowNumber\" style = \"font-weight: bold; text-align: right;\">6</td><td style = \"text-align: right;\">1</td><td style = \"text-align: right;\">7</td><td style = \"text-align: right;\">544.403</td><td style = \"text-align: right;\">0.014251</td><td style = \"text-align: right;\">0</td><td style = \"text-align: right;\">1</td><td style = \"text-align: right;\">1</td></tr><tr><td class = \"rowNumber\" style = \"font-weight: bold; text-align: right;\">7</td><td style = \"text-align: right;\">2</td><td style = \"text-align: right;\">3</td><td style = \"text-align: right;\">368.546</td><td style = \"text-align: right;\">0.00964752</td><td style = \"text-align: right;\">1017</td><td style = \"text-align: right;\">2</td><td style = \"text-align: right;\">1</td></tr><tr><td class = \"rowNumber\" style = \"font-weight: bold; text-align: right;\">8</td><td style = \"text-align: right;\">2</td><td style = \"text-align: right;\">4</td><td style = \"text-align: right;\">184.043</td><td style = \"text-align: right;\">0.00481773</td><td style = \"text-align: right;\">0</td><td style = \"text-align: right;\">2</td><td style = \"text-align: right;\">2</td></tr><tr><td class = \"rowNumber\" style = \"font-weight: bold; text-align: right;\">9</td><td style = \"text-align: right;\">2</td><td style = \"text-align: right;\">5</td><td style = \"text-align: right;\">495.579</td><td style = \"text-align: right;\">0.0129729</td><td style = \"text-align: right;\">0</td><td style = \"text-align: right;\">2</td><td style = \"text-align: right;\">2</td></tr><tr><td class = \"rowNumber\" style = \"font-weight: bold; text-align: right;\">10</td><td style = \"text-align: right;\">2</td><td style = \"text-align: right;\">6</td><td style = \"text-align: right;\">721.217</td><td style = \"text-align: right;\">0.0188795</td><td style = \"text-align: right;\">0</td><td style = \"text-align: right;\">2</td><td style = \"text-align: right;\">1</td></tr><tr><td class = \"rowNumber\" style = \"font-weight: bold; text-align: right;\">11</td><td style = \"text-align: right;\">2</td><td style = \"text-align: right;\">7</td><td style = \"text-align: right;\">997.876</td><td style = \"text-align: right;\">0.0261217</td><td style = \"text-align: right;\">0</td><td style = \"text-align: right;\">2</td><td style = \"text-align: right;\">1</td></tr><tr><td class = \"rowNumber\" style = \"font-weight: bold; text-align: right;\">12</td><td style = \"text-align: right;\">3</td><td style = \"text-align: right;\">4</td><td style = \"text-align: right;\">552.267</td><td style = \"text-align: right;\">0.0144568</td><td style = \"text-align: right;\">0</td><td style = \"text-align: right;\">1</td><td style = \"text-align: right;\">2</td></tr><tr><td class = \"rowNumber\" style = \"font-weight: bold; text-align: right;\">13</td><td style = \"text-align: right;\">3</td><td style = \"text-align: right;\">5</td><td style = \"text-align: right;\">859.942</td><td style = \"text-align: right;\">0.022511</td><td style = \"text-align: right;\">0</td><td style = \"text-align: right;\">1</td><td style = \"text-align: right;\">2</td></tr><tr><td class = \"rowNumber\" style = \"font-weight: bold; text-align: right;\">14</td><td style = \"text-align: right;\">3</td><td style = \"text-align: right;\">6</td><td style = \"text-align: right;\">925.963</td><td style = \"text-align: right;\">0.0242392</td><td style = \"text-align: right;\">2100</td><td style = \"text-align: right;\">1</td><td style = \"text-align: right;\">1</td></tr><tr><td class = \"rowNumber\" style = \"font-weight: bold; text-align: right;\">15</td><td style = \"text-align: right;\">3</td><td style = \"text-align: right;\">7</td><td style = \"text-align: right;\">971.048</td><td style = \"text-align: right;\">0.0254194</td><td style = \"text-align: right;\">0</td><td style = \"text-align: right;\">1</td><td style = \"text-align: right;\">1</td></tr><tr><td class = \"rowNumber\" style = \"font-weight: bold; text-align: right;\">16</td><td style = \"text-align: right;\">4</td><td style = \"text-align: right;\">5</td><td style = \"text-align: right;\">322.054</td><td style = \"text-align: right;\">0.00843049</td><td style = \"text-align: right;\">0</td><td style = \"text-align: right;\">2</td><td style = \"text-align: right;\">2</td></tr><tr><td class = \"rowNumber\" style = \"font-weight: bold; text-align: right;\">17</td><td style = \"text-align: right;\">4</td><td style = \"text-align: right;\">6</td><td style = \"text-align: right;\">686.348</td><td style = \"text-align: right;\">0.0179667</td><td style = \"text-align: right;\">0</td><td style = \"text-align: right;\">2</td><td style = \"text-align: right;\">1</td></tr><tr><td class = \"rowNumber\" style = \"font-weight: bold; text-align: right;\">18</td><td style = \"text-align: right;\">4</td><td style = \"text-align: right;\">7</td><td style = \"text-align: right;\">1071.68</td><td style = \"text-align: right;\">0.0280536</td><td style = \"text-align: right;\">0</td><td style = \"text-align: right;\">2</td><td style = \"text-align: right;\">1</td></tr><tr><td class = \"rowNumber\" style = \"font-weight: bold; text-align: right;\">19</td><td style = \"text-align: right;\">5</td><td style = \"text-align: right;\">6</td><td style = \"text-align: right;\">606.802</td><td style = \"text-align: right;\">0.0158844</td><td style = \"text-align: right;\">700</td><td style = \"text-align: right;\">2</td><td style = \"text-align: right;\">1</td></tr><tr><td class = \"rowNumber\" style = \"font-weight: bold; text-align: right;\">20</td><td style = \"text-align: right;\">5</td><td style = \"text-align: right;\">7</td><td style = \"text-align: right;\">1139.17</td><td style = \"text-align: right;\">0.0298204</td><td style = \"text-align: right;\">0</td><td style = \"text-align: right;\">2</td><td style = \"text-align: right;\">1</td></tr><tr><td class = \"rowNumber\" style = \"font-weight: bold; text-align: right;\">21</td><td style = \"text-align: right;\">6</td><td style = \"text-align: right;\">7</td><td style = \"text-align: right;\">605.283</td><td style = \"text-align: right;\">0.0158447</td><td style = \"text-align: right;\">0</td><td style = \"text-align: right;\">1</td><td style = \"text-align: right;\">1</td></tr></tbody></table></div>"
      ],
      "text/latex": [
       "\\begin{tabular}{r|ccccccc}\n",
       "\t& f\\_node & t\\_node & length & r & existing\\_capacity & f\\_area & t\\_area\\\\\n",
       "\t\\hline\n",
       "\t& Int64 & Int64 & Float64 & Float64 & Int64 & Int64 & Int64\\\\\n",
       "\t\\hline\n",
       "\t1 & 1 & 2 & 1006.15 & 0.0263382 & 0 & 1 & 2 \\\\\n",
       "\t2 & 1 & 3 & 1167.18 & 0.0305537 & 0 & 1 & 1 \\\\\n",
       "\t3 & 1 & 4 & 982.022 & 0.0257067 & 0 & 1 & 2 \\\\\n",
       "\t4 & 1 & 5 & 885.507 & 0.0231802 & 0 & 1 & 2 \\\\\n",
       "\t5 & 1 & 6 & 296.174 & 0.00775304 & 0 & 1 & 1 \\\\\n",
       "\t6 & 1 & 7 & 544.403 & 0.014251 & 0 & 1 & 1 \\\\\n",
       "\t7 & 2 & 3 & 368.546 & 0.00964752 & 1017 & 2 & 1 \\\\\n",
       "\t8 & 2 & 4 & 184.043 & 0.00481773 & 0 & 2 & 2 \\\\\n",
       "\t9 & 2 & 5 & 495.579 & 0.0129729 & 0 & 2 & 2 \\\\\n",
       "\t10 & 2 & 6 & 721.217 & 0.0188795 & 0 & 2 & 1 \\\\\n",
       "\t11 & 2 & 7 & 997.876 & 0.0261217 & 0 & 2 & 1 \\\\\n",
       "\t12 & 3 & 4 & 552.267 & 0.0144568 & 0 & 1 & 2 \\\\\n",
       "\t13 & 3 & 5 & 859.942 & 0.022511 & 0 & 1 & 2 \\\\\n",
       "\t14 & 3 & 6 & 925.963 & 0.0242392 & 2100 & 1 & 1 \\\\\n",
       "\t15 & 3 & 7 & 971.048 & 0.0254194 & 0 & 1 & 1 \\\\\n",
       "\t16 & 4 & 5 & 322.054 & 0.00843049 & 0 & 2 & 2 \\\\\n",
       "\t17 & 4 & 6 & 686.348 & 0.0179667 & 0 & 2 & 1 \\\\\n",
       "\t18 & 4 & 7 & 1071.68 & 0.0280536 & 0 & 2 & 1 \\\\\n",
       "\t19 & 5 & 6 & 606.802 & 0.0158844 & 700 & 2 & 1 \\\\\n",
       "\t20 & 5 & 7 & 1139.17 & 0.0298204 & 0 & 2 & 1 \\\\\n",
       "\t21 & 6 & 7 & 605.283 & 0.0158447 & 0 & 1 & 1 \\\\\n",
       "\\end{tabular}\n"
      ],
      "text/plain": [
       "\u001b[1m21×7 DataFrame\u001b[0m\n",
       "\u001b[1m Row \u001b[0m│\u001b[1m f_node \u001b[0m\u001b[1m t_node \u001b[0m\u001b[1m length   \u001b[0m\u001b[1m r          \u001b[0m\u001b[1m existing_capacity \u001b[0m\u001b[1m f_area \u001b[0m\u001b[1m t_area\u001b[0m ⋯\n",
       "     │\u001b[90m Int64  \u001b[0m\u001b[90m Int64  \u001b[0m\u001b[90m Float64  \u001b[0m\u001b[90m Float64    \u001b[0m\u001b[90m Int64             \u001b[0m\u001b[90m Int64  \u001b[0m\u001b[90m Int64 \u001b[0m ⋯\n",
       "─────┼──────────────────────────────────────────────────────────────────────────\n",
       "   1 │      1       2  1006.15   0.0263382                   0       1       2 ⋯\n",
       "   2 │      1       3  1167.18   0.0305537                   0       1       1\n",
       "   3 │      1       4   982.022  0.0257067                   0       1       2\n",
       "   4 │      1       5   885.507  0.0231802                   0       1       2\n",
       "   5 │      1       6   296.174  0.00775304                  0       1       1 ⋯\n",
       "   6 │      1       7   544.403  0.014251                    0       1       1\n",
       "   7 │      2       3   368.546  0.00964752               1017       2       1\n",
       "   8 │      2       4   184.043  0.00481773                  0       2       2\n",
       "  ⋮  │   ⋮       ⋮        ⋮          ⋮               ⋮            ⋮       ⋮    ⋱\n",
       "  15 │      3       7   971.048  0.0254194                   0       1       1 ⋯\n",
       "  16 │      4       5   322.054  0.00843049                  0       2       2\n",
       "  17 │      4       6   686.348  0.0179667                   0       2       1\n",
       "  18 │      4       7  1071.68   0.0280536                   0       2       1\n",
       "  19 │      5       6   606.802  0.0158844                 700       2       1 ⋯\n",
       "  20 │      5       7  1139.17   0.0298204                   0       2       1\n",
       "  21 │      6       7   605.283  0.0158447                   0       1       1\n",
       "\u001b[36m                                                                 6 rows omitted\u001b[0m"
      ]
     },
     "metadata": {},
     "output_type": "display_data"
    }
   ],
   "source": [
    "chvdcs = getFullCandidateLines(nodes,ehvdcs;ignore_area=true,hvdc=true,kv_nom=380)"
   ]
  },
  {
   "cell_type": "markdown",
   "metadata": {},
   "source": [
    "### Generators data"
   ]
  },
  {
   "cell_type": "code",
   "execution_count": 9,
   "metadata": {},
   "outputs": [
    {
     "data": {
      "text/html": [
       "<div><div style = \"float: left;\"><span>5×15 DataFrame</span></div><div style = \"clear: both;\"></div></div><div class = \"data-frame\" style = \"overflow-x: scroll;\"><table class = \"data-frame\" style = \"margin-bottom: 6px;\"><thead><tr class = \"header\"><th class = \"rowNumber\" style = \"font-weight: bold; text-align: right;\">Row</th><th style = \"text-align: left;\">id</th><th style = \"text-align: left;\">name_id</th><th style = \"text-align: left;\">name</th><th style = \"text-align: left;\">node</th><th style = \"text-align: left;\">node_name</th><th style = \"text-align: left;\">carrier</th><th style = \"text-align: left;\">type</th><th style = \"text-align: left;\">pmax</th><th style = \"text-align: left;\">encost</th><th style = \"text-align: left;\">rucost</th><th style = \"text-align: left;\">rdcost</th><th style = \"text-align: left;\">efficiency</th><th style = \"text-align: left;\">pu_max</th><th style = \"text-align: left;\">pu_min</th><th style = \"text-align: left;\">area</th></tr><tr class = \"subheader headerLastRow\"><th class = \"rowNumber\" style = \"font-weight: bold; text-align: right;\"></th><th title = \"Int64\" style = \"text-align: left;\">Int64</th><th title = \"String31\" style = \"text-align: left;\">String31</th><th title = \"String\" style = \"text-align: left;\">String</th><th title = \"Int64\" style = \"text-align: left;\">Int64</th><th title = \"String15\" style = \"text-align: left;\">String15</th><th title = \"String15\" style = \"text-align: left;\">String15</th><th title = \"String15\" style = \"text-align: left;\">String15</th><th title = \"Float64\" style = \"text-align: left;\">Float64</th><th title = \"Float64\" style = \"text-align: left;\">Float64</th><th title = \"Float64\" style = \"text-align: left;\">Float64</th><th title = \"Float64\" style = \"text-align: left;\">Float64</th><th title = \"Float64\" style = \"text-align: left;\">Float64</th><th title = \"Int64\" style = \"text-align: left;\">Int64</th><th title = \"Float64\" style = \"text-align: left;\">Float64</th><th title = \"Int64\" style = \"text-align: left;\">Int64</th></tr></thead><tbody><tr><td class = \"rowNumber\" style = \"font-weight: bold; text-align: right;\">1</td><td style = \"text-align: right;\">1</td><td style = \"text-align: left;\">Esbjerg1_GAS</td><td style = \"text-align: left;\">Esbjerg Reserve power station</td><td style = \"text-align: right;\">1</td><td style = \"text-align: left;\">Denmark</td><td style = \"text-align: left;\">Gas</td><td style = \"text-align: left;\">Gas</td><td style = \"text-align: right;\">25.0</td><td style = \"text-align: right;\">118.93</td><td style = \"text-align: right;\">29.7325</td><td style = \"text-align: right;\">29.7325</td><td style = \"text-align: right;\">0.35</td><td style = \"text-align: right;\">1</td><td style = \"text-align: right;\">0.0</td><td style = \"text-align: right;\">1</td></tr><tr><td class = \"rowNumber\" style = \"font-weight: bold; text-align: right;\">2</td><td style = \"text-align: right;\">2</td><td style = \"text-align: left;\">Grenaa1_GAS</td><td style = \"text-align: left;\">Grenaa Reserve power station</td><td style = \"text-align: right;\">1</td><td style = \"text-align: left;\">Denmark</td><td style = \"text-align: left;\">Gas</td><td style = \"text-align: left;\">Gas</td><td style = \"text-align: right;\">25.0</td><td style = \"text-align: right;\">118.93</td><td style = \"text-align: right;\">29.7325</td><td style = \"text-align: right;\">29.7325</td><td style = \"text-align: right;\">0.35</td><td style = \"text-align: right;\">1</td><td style = \"text-align: right;\">0.0</td><td style = \"text-align: right;\">1</td></tr><tr><td class = \"rowNumber\" style = \"font-weight: bold; text-align: right;\">3</td><td style = \"text-align: right;\">3</td><td style = \"text-align: left;\">IRU_GAS</td><td style = \"text-align: left;\">IRU Elektrijaam power station</td><td style = \"text-align: right;\">2</td><td style = \"text-align: left;\">Estonia</td><td style = \"text-align: left;\">Gas</td><td style = \"text-align: left;\">Gas</td><td style = \"text-align: right;\">173.0</td><td style = \"text-align: right;\">92.5</td><td style = \"text-align: right;\">23.125</td><td style = \"text-align: right;\">23.125</td><td style = \"text-align: right;\">0.45</td><td style = \"text-align: right;\">1</td><td style = \"text-align: right;\">0.0</td><td style = \"text-align: right;\">2</td></tr><tr><td class = \"rowNumber\" style = \"font-weight: bold; text-align: right;\">4</td><td style = \"text-align: right;\">4</td><td style = \"text-align: left;\">Lietuvos1_GAS</td><td style = \"text-align: left;\">Lietuvos power station</td><td style = \"text-align: right;\">5</td><td style = \"text-align: left;\">Lithuania</td><td style = \"text-align: left;\">Gas</td><td style = \"text-align: left;\">Gas</td><td style = \"text-align: right;\">300.0</td><td style = \"text-align: right;\">118.93</td><td style = \"text-align: right;\">29.7325</td><td style = \"text-align: right;\">29.7325</td><td style = \"text-align: right;\">0.35</td><td style = \"text-align: right;\">1</td><td style = \"text-align: right;\">0.0</td><td style = \"text-align: right;\">2</td></tr><tr><td class = \"rowNumber\" style = \"font-weight: bold; text-align: right;\">5</td><td style = \"text-align: right;\">5</td><td style = \"text-align: left;\">Lietuvos2_GAS</td><td style = \"text-align: left;\">Lietuvos power station</td><td style = \"text-align: right;\">5</td><td style = \"text-align: left;\">Lithuania</td><td style = \"text-align: left;\">Gas</td><td style = \"text-align: left;\">Gas</td><td style = \"text-align: right;\">300.0</td><td style = \"text-align: right;\">118.93</td><td style = \"text-align: right;\">29.7325</td><td style = \"text-align: right;\">29.7325</td><td style = \"text-align: right;\">0.35</td><td style = \"text-align: right;\">1</td><td style = \"text-align: right;\">0.0</td><td style = \"text-align: right;\">2</td></tr></tbody></table></div>"
      ],
      "text/latex": [
       "\\begin{tabular}{r|ccccccc}\n",
       "\t& id & name\\_id & name & node & node\\_name & carrier & \\\\\n",
       "\t\\hline\n",
       "\t& Int64 & String31 & String & Int64 & String15 & String15 & \\\\\n",
       "\t\\hline\n",
       "\t1 & 1 & Esbjerg1\\_GAS & Esbjerg Reserve power station & 1 & Denmark & Gas & $\\dots$ \\\\\n",
       "\t2 & 2 & Grenaa1\\_GAS & Grenaa Reserve power station & 1 & Denmark & Gas & $\\dots$ \\\\\n",
       "\t3 & 3 & IRU\\_GAS & IRU Elektrijaam power station & 2 & Estonia & Gas & $\\dots$ \\\\\n",
       "\t4 & 4 & Lietuvos1\\_GAS & Lietuvos power station & 5 & Lithuania & Gas & $\\dots$ \\\\\n",
       "\t5 & 5 & Lietuvos2\\_GAS & Lietuvos power station & 5 & Lithuania & Gas & $\\dots$ \\\\\n",
       "\\end{tabular}\n"
      ],
      "text/plain": [
       "\u001b[1m5×15 DataFrame\u001b[0m\n",
       "\u001b[1m Row \u001b[0m│\u001b[1m id    \u001b[0m\u001b[1m name_id       \u001b[0m\u001b[1m name                          \u001b[0m\u001b[1m node  \u001b[0m\u001b[1m node_name \u001b[0m\u001b[1m \u001b[0m ⋯\n",
       "     │\u001b[90m Int64 \u001b[0m\u001b[90m String31      \u001b[0m\u001b[90m String                        \u001b[0m\u001b[90m Int64 \u001b[0m\u001b[90m String15  \u001b[0m\u001b[90m \u001b[0m ⋯\n",
       "─────┼──────────────────────────────────────────────────────────────────────────\n",
       "   1 │     1  Esbjerg1_GAS   Esbjerg Reserve power station      1  Denmark     ⋯\n",
       "   2 │     2  Grenaa1_GAS    Grenaa Reserve power station       1  Denmark\n",
       "   3 │     3  IRU_GAS        IRU Elektrijaam power station      2  Estonia\n",
       "   4 │     4  Lietuvos1_GAS  Lietuvos power station             5  Lithuania\n",
       "   5 │     5  Lietuvos2_GAS  Lietuvos power station             5  Lithuania   ⋯\n",
       "\u001b[36m                                                              10 columns omitted\u001b[0m"
      ]
     },
     "metadata": {},
     "output_type": "display_data"
    }
   ],
   "source": [
    "first(generators,5)"
   ]
  },
  {
   "cell_type": "code",
   "execution_count": 10,
   "metadata": {},
   "outputs": [
    {
     "data": {
      "text/html": [
       "<div><div style = \"float: left;\"><span>5×15 DataFrame</span></div><div style = \"clear: both;\"></div></div><div class = \"data-frame\" style = \"overflow-x: scroll;\"><table class = \"data-frame\" style = \"margin-bottom: 6px;\"><thead><tr class = \"header\"><th class = \"rowNumber\" style = \"font-weight: bold; text-align: right;\">Row</th><th style = \"text-align: left;\">id</th><th style = \"text-align: left;\">name_id</th><th style = \"text-align: left;\">name</th><th style = \"text-align: left;\">node</th><th style = \"text-align: left;\">node_name</th><th style = \"text-align: left;\">carrier</th><th style = \"text-align: left;\">type</th><th style = \"text-align: left;\">pmax</th><th style = \"text-align: left;\">encost</th><th style = \"text-align: left;\">rucost</th><th style = \"text-align: left;\">rdcost</th><th style = \"text-align: left;\">efficiency</th><th style = \"text-align: left;\">pu_max</th><th style = \"text-align: left;\">pu_min</th><th style = \"text-align: left;\">area</th></tr><tr class = \"subheader headerLastRow\"><th class = \"rowNumber\" style = \"font-weight: bold; text-align: right;\"></th><th title = \"Int64\" style = \"text-align: left;\">Int64</th><th title = \"String31\" style = \"text-align: left;\">String31</th><th title = \"String\" style = \"text-align: left;\">String</th><th title = \"Int64\" style = \"text-align: left;\">Int64</th><th title = \"String15\" style = \"text-align: left;\">String15</th><th title = \"String15\" style = \"text-align: left;\">String15</th><th title = \"String15\" style = \"text-align: left;\">String15</th><th title = \"Float64\" style = \"text-align: left;\">Float64</th><th title = \"Float64\" style = \"text-align: left;\">Float64</th><th title = \"Float64\" style = \"text-align: left;\">Float64</th><th title = \"Float64\" style = \"text-align: left;\">Float64</th><th title = \"Float64\" style = \"text-align: left;\">Float64</th><th title = \"Int64\" style = \"text-align: left;\">Int64</th><th title = \"Float64\" style = \"text-align: left;\">Float64</th><th title = \"Int64\" style = \"text-align: left;\">Int64</th></tr></thead><tbody><tr><td class = \"rowNumber\" style = \"font-weight: bold; text-align: right;\">1</td><td style = \"text-align: right;\">75</td><td style = \"text-align: left;\">Estonia_Other_RES</td><td style = \"text-align: left;\">Estonia_Other_RES</td><td style = \"text-align: right;\">2</td><td style = \"text-align: left;\">Estonia</td><td style = \"text-align: left;\">Other RES</td><td style = \"text-align: left;\">Other RES</td><td style = \"text-align: right;\">83.0</td><td style = \"text-align: right;\">0.02</td><td style = \"text-align: right;\">0.005</td><td style = \"text-align: right;\">0.005</td><td style = \"text-align: right;\">0.71</td><td style = \"text-align: right;\">1</td><td style = \"text-align: right;\">0.0</td><td style = \"text-align: right;\">2</td></tr><tr><td class = \"rowNumber\" style = \"font-weight: bold; text-align: right;\">2</td><td style = \"text-align: right;\">76</td><td style = \"text-align: left;\">Finland_Other_RES</td><td style = \"text-align: left;\">Finland_Other_RES</td><td style = \"text-align: right;\">3</td><td style = \"text-align: left;\">Finland</td><td style = \"text-align: left;\">Other RES</td><td style = \"text-align: left;\">Other RES</td><td style = \"text-align: right;\">197.0</td><td style = \"text-align: right;\">0.02</td><td style = \"text-align: right;\">0.005</td><td style = \"text-align: right;\">0.005</td><td style = \"text-align: right;\">0.71</td><td style = \"text-align: right;\">1</td><td style = \"text-align: right;\">0.0</td><td style = \"text-align: right;\">1</td></tr><tr><td class = \"rowNumber\" style = \"font-weight: bold; text-align: right;\">3</td><td style = \"text-align: right;\">77</td><td style = \"text-align: left;\">Latvia_Other_RES</td><td style = \"text-align: left;\">Latvia_Other_RES</td><td style = \"text-align: right;\">4</td><td style = \"text-align: left;\">Latvia</td><td style = \"text-align: left;\">Other RES</td><td style = \"text-align: left;\">Other RES</td><td style = \"text-align: right;\">36.0</td><td style = \"text-align: right;\">0.02</td><td style = \"text-align: right;\">0.005</td><td style = \"text-align: right;\">0.005</td><td style = \"text-align: right;\">0.71</td><td style = \"text-align: right;\">1</td><td style = \"text-align: right;\">0.0</td><td style = \"text-align: right;\">2</td></tr><tr><td class = \"rowNumber\" style = \"font-weight: bold; text-align: right;\">4</td><td style = \"text-align: right;\">78</td><td style = \"text-align: left;\">Sweden_Other_RES</td><td style = \"text-align: left;\">Sweden_Other_RES</td><td style = \"text-align: right;\">6</td><td style = \"text-align: left;\">Sweden</td><td style = \"text-align: left;\">Other RES</td><td style = \"text-align: left;\">Other RES</td><td style = \"text-align: right;\">622.5</td><td style = \"text-align: right;\">0.02</td><td style = \"text-align: right;\">0.005</td><td style = \"text-align: right;\">0.005</td><td style = \"text-align: right;\">0.71</td><td style = \"text-align: right;\">1</td><td style = \"text-align: right;\">0.0</td><td style = \"text-align: right;\">1</td></tr><tr><td class = \"rowNumber\" style = \"font-weight: bold; text-align: right;\">5</td><td style = \"text-align: right;\">79</td><td style = \"text-align: left;\">Norway_Other_RES</td><td style = \"text-align: left;\">Norway_Other_RES</td><td style = \"text-align: right;\">7</td><td style = \"text-align: left;\">Norway</td><td style = \"text-align: left;\">Other RES</td><td style = \"text-align: left;\">Other RES</td><td style = \"text-align: right;\">43.0</td><td style = \"text-align: right;\">0.02</td><td style = \"text-align: right;\">0.005</td><td style = \"text-align: right;\">0.005</td><td style = \"text-align: right;\">0.71</td><td style = \"text-align: right;\">1</td><td style = \"text-align: right;\">0.0</td><td style = \"text-align: right;\">1</td></tr></tbody></table></div>"
      ],
      "text/latex": [
       "\\begin{tabular}{r|cccccccc}\n",
       "\t& id & name\\_id & name & node & node\\_name & carrier & type & \\\\\n",
       "\t\\hline\n",
       "\t& Int64 & String31 & String & Int64 & String15 & String15 & String15 & \\\\\n",
       "\t\\hline\n",
       "\t1 & 75 & Estonia\\_Other\\_RES & Estonia\\_Other\\_RES & 2 & Estonia & Other RES & Other RES & $\\dots$ \\\\\n",
       "\t2 & 76 & Finland\\_Other\\_RES & Finland\\_Other\\_RES & 3 & Finland & Other RES & Other RES & $\\dots$ \\\\\n",
       "\t3 & 77 & Latvia\\_Other\\_RES & Latvia\\_Other\\_RES & 4 & Latvia & Other RES & Other RES & $\\dots$ \\\\\n",
       "\t4 & 78 & Sweden\\_Other\\_RES & Sweden\\_Other\\_RES & 6 & Sweden & Other RES & Other RES & $\\dots$ \\\\\n",
       "\t5 & 79 & Norway\\_Other\\_RES & Norway\\_Other\\_RES & 7 & Norway & Other RES & Other RES & $\\dots$ \\\\\n",
       "\\end{tabular}\n"
      ],
      "text/plain": [
       "\u001b[1m5×15 DataFrame\u001b[0m\n",
       "\u001b[1m Row \u001b[0m│\u001b[1m id    \u001b[0m\u001b[1m name_id           \u001b[0m\u001b[1m name              \u001b[0m\u001b[1m node  \u001b[0m\u001b[1m node_name \u001b[0m\u001b[1m carrier \u001b[0m ⋯\n",
       "     │\u001b[90m Int64 \u001b[0m\u001b[90m String31          \u001b[0m\u001b[90m String            \u001b[0m\u001b[90m Int64 \u001b[0m\u001b[90m String15  \u001b[0m\u001b[90m String15\u001b[0m ⋯\n",
       "─────┼──────────────────────────────────────────────────────────────────────────\n",
       "   1 │    75  Estonia_Other_RES  Estonia_Other_RES      2  Estonia    Other RE ⋯\n",
       "   2 │    76  Finland_Other_RES  Finland_Other_RES      3  Finland    Other RE\n",
       "   3 │    77  Latvia_Other_RES   Latvia_Other_RES       4  Latvia     Other RE\n",
       "   4 │    78  Sweden_Other_RES   Sweden_Other_RES       6  Sweden     Other RE\n",
       "   5 │    79  Norway_Other_RES   Norway_Other_RES       7  Norway     Other RE ⋯\n",
       "\u001b[36m                                                              10 columns omitted\u001b[0m"
      ]
     },
     "metadata": {},
     "output_type": "display_data"
    }
   ],
   "source": [
    "last(generators,5)"
   ]
  }
 ],
 "metadata": {
  "kernelspec": {
   "display_name": "Julia 1.9.3",
   "language": "julia",
   "name": "julia-1.9"
  },
  "language_info": {
   "file_extension": ".jl",
   "mimetype": "application/julia",
   "name": "julia",
   "version": "1.9.3"
  }
 },
 "nbformat": 4,
 "nbformat_minor": 2
}
