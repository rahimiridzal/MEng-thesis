{
 "cells": [
  {
   "cell_type": "markdown",
   "metadata": {},
   "source": [
    "# Simulation"
   ]
  },
  {
   "cell_type": "markdown",
   "metadata": {},
   "source": [
    "## Load package"
   ]
  },
  {
   "cell_type": "code",
   "execution_count": 1,
   "metadata": {},
   "outputs": [
    {
     "data": {
      "text/plain": [
       "tep (generic function with 1 method)"
      ]
     },
     "metadata": {},
     "output_type": "display_data"
    }
   ],
   "source": [
    "using CSV, DataFrames\n",
    "using JuMP, HiGHS\n",
    "using Statistics\n",
    "include(joinpath(\"..\",\"src\",\"tep.jl\"))\n"
   ]
  },
  {
   "cell_type": "markdown",
   "metadata": {},
   "source": [
    "## Load data"
   ]
  },
  {
   "cell_type": "code",
   "execution_count": 2,
   "metadata": {},
   "outputs": [
    {
     "data": {
      "text/plain": [
       "2-element Vector{Int64}:\n",
       " 1\n",
       " 2"
      ]
     },
     "metadata": {},
     "output_type": "display_data"
    }
   ],
   "source": [
    "nodes = CSV.read(joinpath(\"..\",\"data\",\"NordicBaltic\",\"nodes.csv\"),DataFrame)\n",
    "generators = CSV.read(joinpath(\"..\",\"data\",\"NordicBaltic\",\"generators.csv\"),DataFrame)\n",
    "vres = CSV.read(joinpath(\"..\",\"data\",\"NordicBaltic\",\"vres.csv\"),DataFrame)\n",
    "kperiods = CSV.read(joinpath(\"..\",\"data\",\"NordicBaltic\",\"kperiods.csv\"),DataFrame)\n",
    "fullcac = CSV.read(joinpath(\"..\",\"data\",\"NordicBaltic\",\"fullcac.csv\"),DataFrame)\n",
    "fullcdc = CSV.read(joinpath(\"..\",\"data\",\"NordicBaltic\",\"fullcdc.csv\"),DataFrame)\n",
    "areas = CSV.read(joinpath(\"..\",\"data\",\"NordicBaltic\",\"areas.csv\"),DataFrame)\n",
    "slacks = [1,2]"
   ]
  },
  {
   "cell_type": "markdown",
   "metadata": {},
   "source": [
    "## Parameters"
   ]
  },
  {
   "cell_type": "markdown",
   "metadata": {},
   "source": [
    "Line related:\n",
    "- \"hvac fixed cost\", costacf = 278.2e6\n",
    "- \"hvac variable cost\", costacv = 3091.29\n",
    "- \"hvdc fixed cost\", costdcf = 1376.3e6\n",
    "- \"hvdc variable cost\", costdcv = 2245.11\n",
    "- \"maximum capacity for new line\", maxcap = 6000\n",
    "\n",
    "Others:\n",
    "- \"Base power\", Sbase = 100\n",
    "- \"Big M\", bigM = 10000\n",
    "- \"MIP gap\", epsilon = 0.005\n",
    "\n",
    "Planning horizon:\n",
    "- \"planning horizon\", years = 20\n",
    "\n",
    "Rates:\n",
    "- \"discount rate\", d = 0.05\n",
    "- \"annual load growth rate\", load_rate = 0.02\n",
    "- \"annual generation growth rate\", gen_rate = 0.01\n",
    "- \"annual VREs growth rate\", vre_rate = 0.05\n",
    "- \"intra-zonal reserve requirement ratio\", beta = 0.67"
   ]
  },
  {
   "cell_type": "markdown",
   "metadata": {},
   "source": [
    "## Energy only"
   ]
  },
  {
   "cell_type": "code",
   "execution_count": 3,
   "metadata": {},
   "outputs": [],
   "source": [
    "CBEO = tep(areas,generators,vres,nodes,kperiods,fullcac,fullcdc,slacks;\n",
    "years = 10,\n",
    "mip_gap = 0.005,\n",
    "CAP_max = 6000,\n",
    "ac_fixed_cost = 278.2e6,\n",
    "dc_fixed_cost = 1376.3e6,\n",
    "ac_var_cost = 3091.29,\n",
    "dc_var_cost = 2245.11,\n",
    "d = 0.05,\n",
    "load_rate = 0.02,\n",
    "gen_rate = 0.01,\n",
    "vre_rate = 0.05,\n",
    "bigM = 10000,\n",
    "Sbase = 100,\n",
    "beta = 0.67,\n",
    "reserve_exchange = false,\n",
    "budget_based = false,\n",
    ");\n",
    "BBEO = tep(areas,generators,vres,nodes,kperiods,fullcac,fullcdc,slacks;\n",
    "years = 10,\n",
    "mip_gap = 0.005,\n",
    "CAP_max = 6000,\n",
    "ac_fixed_cost = 278.2e6,\n",
    "dc_fixed_cost = 1376.3e6,\n",
    "ac_var_cost = 3091.29,\n",
    "dc_var_cost = 2245.11,\n",
    "d = 0.05,\n",
    "load_rate = 0.02,\n",
    "gen_rate = 0.01,\n",
    "vre_rate = 0.05,\n",
    "bigM = 10000,\n",
    "Sbase = 100,\n",
    "beta = 0.67,\n",
    "reserve_exchange = false,\n",
    "budget_based = true,\n",
    ");"
   ]
  },
  {
   "cell_type": "markdown",
   "metadata": {},
   "source": [
    "## Exchange of reserve"
   ]
  },
  {
   "cell_type": "code",
   "execution_count": 4,
   "metadata": {},
   "outputs": [],
   "source": [
    "CBRX = tep(areas,generators,vres,nodes,kperiods,fullcac,fullcdc,slacks;\n",
    "years = 10,\n",
    "mip_gap = 0.005,\n",
    "CAP_max = 6000,\n",
    "ac_fixed_cost = 278.2e6,\n",
    "dc_fixed_cost = 1376.3e6,\n",
    "ac_var_cost = 3091.29,\n",
    "dc_var_cost = 2245.11,\n",
    "d = 0.05,\n",
    "load_rate = 0.02,\n",
    "gen_rate = 0.01,\n",
    "vre_rate = 0.05,\n",
    "bigM = 10000,\n",
    "Sbase = 100,\n",
    "beta = 0.67,\n",
    "reserve_exchange = true,\n",
    "budget_based = false,\n",
    ");\n",
    "BBRX = tep(areas,generators,vres,nodes,kperiods,fullcac,fullcdc,slacks;\n",
    "years = 10,\n",
    "mip_gap = 0.005,\n",
    "CAP_max = 6000,\n",
    "ac_fixed_cost = 278.2e6,\n",
    "dc_fixed_cost = 1376.3e6,\n",
    "ac_var_cost = 3091.29,\n",
    "dc_var_cost = 2245.11,\n",
    "d = 0.05,\n",
    "load_rate = 0.02,\n",
    "gen_rate = 0.01,\n",
    "vre_rate = 0.05,\n",
    "bigM = 10000,\n",
    "Sbase = 100,\n",
    "beta = 0.67,\n",
    "reserve_exchange = true,\n",
    "budget_based = true,\n",
    ");"
   ]
  },
  {
   "cell_type": "markdown",
   "metadata": {},
   "source": [
    "## Cost breakdown"
   ]
  },
  {
   "cell_type": "code",
   "execution_count": 5,
   "metadata": {},
   "outputs": [
    {
     "data": {
      "text/html": [
       "<div><div style = \"float: left;\"><span>6×4 DataFrame</span></div><div style = \"clear: both;\"></div></div><div class = \"data-frame\" style = \"overflow-x: scroll;\"><table class = \"data-frame\" style = \"margin-bottom: 6px;\"><thead><tr class = \"header\"><th class = \"rowNumber\" style = \"font-weight: bold; text-align: right;\">Row</th><th style = \"text-align: left;\">x1</th><th style = \"text-align: left;\">x2</th><th style = \"text-align: left;\">x3</th><th style = \"text-align: left;\">x4</th></tr><tr class = \"subheader headerLastRow\"><th class = \"rowNumber\" style = \"font-weight: bold; text-align: right;\"></th><th title = \"Float64\" style = \"text-align: left;\">Float64</th><th title = \"Float64\" style = \"text-align: left;\">Float64</th><th title = \"Float64\" style = \"text-align: left;\">Float64</th><th title = \"Float64\" style = \"text-align: left;\">Float64</th></tr></thead><tbody><tr><td class = \"rowNumber\" style = \"font-weight: bold; text-align: right;\">1</td><td style = \"text-align: right;\">2.28805e10</td><td style = \"text-align: right;\">2.28805e10</td><td style = \"text-align: right;\">2.08964e10</td><td style = \"text-align: right;\">2.072e10</td></tr><tr><td class = \"rowNumber\" style = \"font-weight: bold; text-align: right;\">2</td><td style = \"text-align: right;\">1.44621e10</td><td style = \"text-align: right;\">1.44621e10</td><td style = \"text-align: right;\">1.28731e10</td><td style = \"text-align: right;\">1.28275e10</td></tr><tr><td class = \"rowNumber\" style = \"font-weight: bold; text-align: right;\">3</td><td style = \"text-align: right;\">1.23676e10</td><td style = \"text-align: right;\">1.23676e10</td><td style = \"text-align: right;\">1.25585e10</td><td style = \"text-align: right;\">1.23604e10</td></tr><tr><td class = \"rowNumber\" style = \"font-weight: bold; text-align: right;\">4</td><td style = \"text-align: right;\">0.0</td><td style = \"text-align: right;\">0.0</td><td style = \"text-align: right;\">0.0</td><td style = \"text-align: right;\">0.0</td></tr><tr><td class = \"rowNumber\" style = \"font-weight: bold; text-align: right;\">5</td><td style = \"text-align: right;\">8.73828e8</td><td style = \"text-align: right;\">8.73828e8</td><td style = \"text-align: right;\">9.56445e9</td><td style = \"text-align: right;\">1.23274e10</td></tr><tr><td class = \"rowNumber\" style = \"font-weight: bold; text-align: right;\">6</td><td style = \"text-align: right;\">0.0</td><td style = \"text-align: right;\">0.0</td><td style = \"text-align: right;\">1.66716e10</td><td style = \"text-align: right;\">1.66347e10</td></tr></tbody></table></div>"
      ],
      "text/latex": [
       "\\begin{tabular}{r|cccc}\n",
       "\t& x1 & x2 & x3 & x4\\\\\n",
       "\t\\hline\n",
       "\t& Float64 & Float64 & Float64 & Float64\\\\\n",
       "\t\\hline\n",
       "\t1 & 2.28805e10 & 2.28805e10 & 2.08964e10 & 2.072e10 \\\\\n",
       "\t2 & 1.44621e10 & 1.44621e10 & 1.28731e10 & 1.28275e10 \\\\\n",
       "\t3 & 1.23676e10 & 1.23676e10 & 1.25585e10 & 1.23604e10 \\\\\n",
       "\t4 & 0.0 & 0.0 & 0.0 & 0.0 \\\\\n",
       "\t5 & 8.73828e8 & 8.73828e8 & 9.56445e9 & 1.23274e10 \\\\\n",
       "\t6 & 0.0 & 0.0 & 1.66716e10 & 1.66347e10 \\\\\n",
       "\\end{tabular}\n"
      ],
      "text/plain": [
       "\u001b[1m6×4 DataFrame\u001b[0m\n",
       "\u001b[1m Row \u001b[0m│\u001b[1m x1         \u001b[0m\u001b[1m x2         \u001b[0m\u001b[1m x3         \u001b[0m\u001b[1m x4         \u001b[0m\n",
       "     │\u001b[90m Float64    \u001b[0m\u001b[90m Float64    \u001b[0m\u001b[90m Float64    \u001b[0m\u001b[90m Float64    \u001b[0m\n",
       "─────┼────────────────────────────────────────────────\n",
       "   1 │ 2.28805e10  2.28805e10  2.08964e10  2.072e10\n",
       "   2 │ 1.44621e10  1.44621e10  1.28731e10  1.28275e10\n",
       "   3 │ 1.23676e10  1.23676e10  1.25585e10  1.23604e10\n",
       "   4 │ 0.0         0.0         0.0         0.0\n",
       "   5 │ 8.73828e8   8.73828e8   9.56445e9   1.23274e10\n",
       "   6 │ 0.0         0.0         1.66716e10  1.66347e10"
      ]
     },
     "metadata": {},
     "output_type": "display_data"
    }
   ],
   "source": [
    "DataFrame([CBEO.Obj CBRX.Obj BBEO.Obj BBRX.Obj;\n",
    "sum(CBEO.TCostEn) sum(CBRX.TCostEn) sum(BBEO.TCostEn) sum(BBRX.TCostEn);\n",
    "sum(CBEO.TCostAs) sum(CBRX.TCostAs) sum(BBEO.TCostAs) sum(BBRX.TCostAs);\n",
    "sum(CBEO.TCostEns) sum(CBRX.TCostEns) sum(BBEO.TCostEns) sum(BBRX.TCostEns);\n",
    "sum(CBEO.TCostIntraInv) sum(CBRX.TCostIntraInv) sum(BBEO.TCostIntraInv) sum(BBRX.TCostIntraInv);\n",
    "sum(CBEO.TCostCrossInv) sum(CBRX.TCostCrossInv) sum(BBEO.TCostCrossInv) sum(BBRX.TCostCrossInv)],:auto) "
   ]
  },
  {
   "cell_type": "markdown",
   "metadata": {},
   "source": [
    "## HVAC Investment Decisions"
   ]
  },
  {
   "cell_type": "code",
   "execution_count": 22,
   "metadata": {},
   "outputs": [
    {
     "data": {
      "text/html": [
       "<div><div style = \"float: left;\"><span>9×6 DataFrame</span></div><div style = \"clear: both;\"></div></div><div class = \"data-frame\" style = \"overflow-x: scroll;\"><table class = \"data-frame\" style = \"margin-bottom: 6px;\"><thead><tr class = \"header\"><th class = \"rowNumber\" style = \"font-weight: bold; text-align: right;\">Row</th><th style = \"text-align: left;\">f_node</th><th style = \"text-align: left;\">t_node</th><th style = \"text-align: left;\">CBEO</th><th style = \"text-align: left;\">CBRX</th><th style = \"text-align: left;\">BBEO</th><th style = \"text-align: left;\">BBRX</th></tr><tr class = \"subheader headerLastRow\"><th class = \"rowNumber\" style = \"font-weight: bold; text-align: right;\"></th><th title = \"Any\" style = \"text-align: left;\">Any</th><th title = \"Any\" style = \"text-align: left;\">Any</th><th title = \"Any\" style = \"text-align: left;\">Any</th><th title = \"Any\" style = \"text-align: left;\">Any</th><th title = \"Any\" style = \"text-align: left;\">Any</th><th title = \"Any\" style = \"text-align: left;\">Any</th></tr></thead><tbody><tr><td class = \"rowNumber\" style = \"font-weight: bold; text-align: right;\">1</td><td style = \"text-align: left;\">Denmark</td><td style = \"text-align: left;\">Finland</td><td style = \"text-align: left;\">6000.0</td><td style = \"text-align: left;\">6000.0</td><td style = \"text-align: left;\">3488.33</td><td style = \"text-align: left;\">5797.81</td></tr><tr><td class = \"rowNumber\" style = \"font-weight: bold; text-align: right;\">2</td><td style = \"text-align: left;\">Denmark</td><td style = \"text-align: left;\">Sweden</td><td style = \"text-align: left;\">0.0</td><td style = \"text-align: left;\">0.0</td><td style = \"text-align: left;\">4408.27</td><td style = \"text-align: left;\">6000.0</td></tr><tr><td class = \"rowNumber\" style = \"font-weight: bold; text-align: right;\">3</td><td style = \"text-align: left;\">Denmark</td><td style = \"text-align: left;\">Norway</td><td style = \"text-align: left;\">6000.0</td><td style = \"text-align: left;\">6000.0</td><td style = \"text-align: left;\">6000.0</td><td style = \"text-align: left;\">6000.0</td></tr><tr><td class = \"rowNumber\" style = \"font-weight: bold; text-align: right;\">4</td><td style = \"text-align: left;\">Finland</td><td style = \"text-align: left;\">Sweden</td><td style = \"text-align: left;\">0.0</td><td style = \"text-align: left;\">0.0</td><td style = \"text-align: left;\">5515.77</td><td style = \"text-align: left;\">3516.19</td></tr><tr><td class = \"rowNumber\" style = \"font-weight: bold; text-align: right;\">5</td><td style = \"text-align: left;\">Finland</td><td style = \"text-align: left;\">Norway</td><td style = \"text-align: left;\">0.0</td><td style = \"text-align: left;\">0.0</td><td style = \"text-align: left;\">2194.51</td><td style = \"text-align: left;\">6000.0</td></tr><tr><td class = \"rowNumber\" style = \"font-weight: bold; text-align: right;\">6</td><td style = \"text-align: left;\">Sweden</td><td style = \"text-align: left;\">Norway</td><td style = \"text-align: left;\">0.0</td><td style = \"text-align: left;\">0.0</td><td style = \"text-align: left;\">4521.45</td><td style = \"text-align: left;\">6000.0</td></tr><tr><td class = \"rowNumber\" style = \"font-weight: bold; text-align: right;\">7</td><td style = \"text-align: left;\">Estonia</td><td style = \"text-align: left;\">Latvia</td><td style = \"text-align: left;\">0.0</td><td style = \"text-align: left;\">0.0</td><td style = \"text-align: left;\">6000.0</td><td style = \"text-align: left;\">4935.3</td></tr><tr><td class = \"rowNumber\" style = \"font-weight: bold; text-align: right;\">8</td><td style = \"text-align: left;\">Estonia</td><td style = \"text-align: left;\">Lithuania</td><td style = \"text-align: left;\">689.835</td><td style = \"text-align: left;\">689.835</td><td style = \"text-align: left;\">3781.72</td><td style = \"text-align: left;\">3791.02</td></tr><tr><td class = \"rowNumber\" style = \"font-weight: bold; text-align: right;\">9</td><td style = \"text-align: left;\">Latvia</td><td style = \"text-align: left;\">Lithuania</td><td style = \"text-align: left;\">0.0</td><td style = \"text-align: left;\">0.0</td><td style = \"text-align: left;\">4475.28</td><td style = \"text-align: left;\">0.0</td></tr></tbody></table></div>"
      ],
      "text/latex": [
       "\\begin{tabular}{r|cccccc}\n",
       "\t& f\\_node & t\\_node & CBEO & CBRX & BBEO & BBRX\\\\\n",
       "\t\\hline\n",
       "\t& Any & Any & Any & Any & Any & Any\\\\\n",
       "\t\\hline\n",
       "\t1 & Denmark & Finland & 6000.0 & 6000.0 & 3488.33 & 5797.81 \\\\\n",
       "\t2 & Denmark & Sweden & 0.0 & 0.0 & 4408.27 & 6000.0 \\\\\n",
       "\t3 & Denmark & Norway & 6000.0 & 6000.0 & 6000.0 & 6000.0 \\\\\n",
       "\t4 & Finland & Sweden & 0.0 & 0.0 & 5515.77 & 3516.19 \\\\\n",
       "\t5 & Finland & Norway & 0.0 & 0.0 & 2194.51 & 6000.0 \\\\\n",
       "\t6 & Sweden & Norway & 0.0 & 0.0 & 4521.45 & 6000.0 \\\\\n",
       "\t7 & Estonia & Latvia & 0.0 & 0.0 & 6000.0 & 4935.3 \\\\\n",
       "\t8 & Estonia & Lithuania & 689.835 & 689.835 & 3781.72 & 3791.02 \\\\\n",
       "\t9 & Latvia & Lithuania & 0.0 & 0.0 & 4475.28 & 0.0 \\\\\n",
       "\\end{tabular}\n"
      ],
      "text/plain": [
       "\u001b[1m9×6 DataFrame\u001b[0m\n",
       "\u001b[1m Row \u001b[0m│\u001b[1m f_node  \u001b[0m\u001b[1m t_node    \u001b[0m\u001b[1m CBEO    \u001b[0m\u001b[1m CBRX    \u001b[0m\u001b[1m BBEO    \u001b[0m\u001b[1m BBRX    \u001b[0m\n",
       "     │\u001b[90m Any     \u001b[0m\u001b[90m Any       \u001b[0m\u001b[90m Any     \u001b[0m\u001b[90m Any     \u001b[0m\u001b[90m Any     \u001b[0m\u001b[90m Any     \u001b[0m\n",
       "─────┼────────────────────────────────────────────────────────\n",
       "   1 │ Denmark  Finland    6000.0   6000.0   3488.33  5797.81\n",
       "   2 │ Denmark  Sweden     0.0      0.0      4408.27  6000.0\n",
       "   3 │ Denmark  Norway     6000.0   6000.0   6000.0   6000.0\n",
       "   4 │ Finland  Sweden     0.0      0.0      5515.77  3516.19\n",
       "   5 │ Finland  Norway     0.0      0.0      2194.51  6000.0\n",
       "   6 │ Sweden   Norway     0.0      0.0      4521.45  6000.0\n",
       "   7 │ Estonia  Latvia     0.0      0.0      6000.0   4935.3\n",
       "   8 │ Estonia  Lithuania  689.835  689.835  3781.72  3791.02\n",
       "   9 │ Latvia   Lithuania  0.0      0.0      4475.28  0.0"
      ]
     },
     "metadata": {},
     "output_type": "display_data"
    }
   ],
   "source": [
    "DataFrame([nodes[fullcac.f_node,:name] nodes[fullcac.t_node,:name] [sum(CBEO.cap_ac,dims=2) sum(CBRX.cap_ac,dims=2) sum(BBEO.cap_ac,dims=2) sum(BBRX.cap_ac,dims=2)] ],[\"f_node\",\"t_node\",\"CBEO\",\"CBRX\",\"BBEO\",\"BBRX\"])"
   ]
  },
  {
   "cell_type": "markdown",
   "metadata": {},
   "source": [
    "## HVDC Investment Decisions"
   ]
  },
  {
   "cell_type": "code",
   "execution_count": 27,
   "metadata": {},
   "outputs": [
    {
     "data": {
      "text/html": [
       "<div><div style = \"float: left;\"><span>21×6 DataFrame</span></div><div style = \"clear: both;\"></div></div><div class = \"data-frame\" style = \"overflow-x: scroll;\"><table class = \"data-frame\" style = \"margin-bottom: 6px;\"><thead><tr class = \"header\"><th class = \"rowNumber\" style = \"font-weight: bold; text-align: right;\">Row</th><th style = \"text-align: left;\">f_node</th><th style = \"text-align: left;\">t_node</th><th style = \"text-align: left;\">CBEO</th><th style = \"text-align: left;\">CBRX</th><th style = \"text-align: left;\">BBEO</th><th style = \"text-align: left;\">BBRX</th></tr><tr class = \"subheader headerLastRow\"><th class = \"rowNumber\" style = \"font-weight: bold; text-align: right;\"></th><th title = \"Any\" style = \"text-align: left;\">Any</th><th title = \"Any\" style = \"text-align: left;\">Any</th><th title = \"Any\" style = \"text-align: left;\">Any</th><th title = \"Any\" style = \"text-align: left;\">Any</th><th title = \"Any\" style = \"text-align: left;\">Any</th><th title = \"Any\" style = \"text-align: left;\">Any</th></tr></thead><tbody><tr><td class = \"rowNumber\" style = \"font-weight: bold; text-align: right;\">1</td><td style = \"text-align: left;\">Denmark</td><td style = \"text-align: left;\">Estonia</td><td style = \"text-align: left;\">0.0</td><td style = \"text-align: left;\">0.0</td><td style = \"text-align: left;\">4889.31</td><td style = \"text-align: left;\">6000.0</td></tr><tr><td class = \"rowNumber\" style = \"font-weight: bold; text-align: right;\">2</td><td style = \"text-align: left;\">Denmark</td><td style = \"text-align: left;\">Finland</td><td style = \"text-align: left;\">0.0</td><td style = \"text-align: left;\">0.0</td><td style = \"text-align: left;\">0.0</td><td style = \"text-align: left;\">0.0</td></tr><tr><td class = \"rowNumber\" style = \"font-weight: bold; text-align: right;\">3</td><td style = \"text-align: left;\">Denmark</td><td style = \"text-align: left;\">Latvia</td><td style = \"text-align: left;\">0.0</td><td style = \"text-align: left;\">0.0</td><td style = \"text-align: left;\">6000.0</td><td style = \"text-align: left;\">0.0</td></tr><tr><td class = \"rowNumber\" style = \"font-weight: bold; text-align: right;\">4</td><td style = \"text-align: left;\">Denmark</td><td style = \"text-align: left;\">Lithuania</td><td style = \"text-align: left;\">0.0</td><td style = \"text-align: left;\">0.0</td><td style = \"text-align: left;\">4604.82</td><td style = \"text-align: left;\">0.0</td></tr><tr><td class = \"rowNumber\" style = \"font-weight: bold; text-align: right;\">5</td><td style = \"text-align: left;\">Denmark</td><td style = \"text-align: left;\">Sweden</td><td style = \"text-align: left;\">0.0</td><td style = \"text-align: left;\">0.0</td><td style = \"text-align: left;\">6000.0</td><td style = \"text-align: left;\">0.0</td></tr><tr><td class = \"rowNumber\" style = \"font-weight: bold; text-align: right;\">6</td><td style = \"text-align: left;\">Denmark</td><td style = \"text-align: left;\">Norway</td><td style = \"text-align: left;\">0.0</td><td style = \"text-align: left;\">0.0</td><td style = \"text-align: left;\">6000.0</td><td style = \"text-align: left;\">0.0</td></tr><tr><td class = \"rowNumber\" style = \"font-weight: bold; text-align: right;\">7</td><td style = \"text-align: left;\">Estonia</td><td style = \"text-align: left;\">Finland</td><td style = \"text-align: left;\">0.0</td><td style = \"text-align: left;\">0.0</td><td style = \"text-align: left;\">6000.0</td><td style = \"text-align: left;\">6000.0</td></tr><tr><td class = \"rowNumber\" style = \"font-weight: bold; text-align: right;\">8</td><td style = \"text-align: left;\">Estonia</td><td style = \"text-align: left;\">Latvia</td><td style = \"text-align: left;\">0.0</td><td style = \"text-align: left;\">0.0</td><td style = \"text-align: left;\">6000.0</td><td style = \"text-align: left;\">6000.0</td></tr><tr><td class = \"rowNumber\" style = \"font-weight: bold; text-align: right;\">9</td><td style = \"text-align: left;\">Estonia</td><td style = \"text-align: left;\">Lithuania</td><td style = \"text-align: left;\">0.0</td><td style = \"text-align: left;\">0.0</td><td style = \"text-align: left;\">0.0</td><td style = \"text-align: left;\">0.0</td></tr><tr><td class = \"rowNumber\" style = \"font-weight: bold; text-align: right;\">10</td><td style = \"text-align: left;\">Estonia</td><td style = \"text-align: left;\">Sweden</td><td style = \"text-align: left;\">0.0</td><td style = \"text-align: left;\">0.0</td><td style = \"text-align: left;\">6000.0</td><td style = \"text-align: left;\">6000.0</td></tr><tr><td class = \"rowNumber\" style = \"font-weight: bold; text-align: right;\">11</td><td style = \"text-align: left;\">Estonia</td><td style = \"text-align: left;\">Norway</td><td style = \"text-align: left;\">0.0</td><td style = \"text-align: left;\">0.0</td><td style = \"text-align: left;\">6000.0</td><td style = \"text-align: left;\">6000.0</td></tr><tr><td class = \"rowNumber\" style = \"font-weight: bold; text-align: right;\">12</td><td style = \"text-align: left;\">Finland</td><td style = \"text-align: left;\">Latvia</td><td style = \"text-align: left;\">0.0</td><td style = \"text-align: left;\">0.0</td><td style = \"text-align: left;\">6000.0</td><td style = \"text-align: left;\">6000.0</td></tr><tr><td class = \"rowNumber\" style = \"font-weight: bold; text-align: right;\">13</td><td style = \"text-align: left;\">Finland</td><td style = \"text-align: left;\">Lithuania</td><td style = \"text-align: left;\">0.0</td><td style = \"text-align: left;\">0.0</td><td style = \"text-align: left;\">6000.0</td><td style = \"text-align: left;\">6000.0</td></tr><tr><td class = \"rowNumber\" style = \"font-weight: bold; text-align: right;\">14</td><td style = \"text-align: left;\">Finland</td><td style = \"text-align: left;\">Sweden</td><td style = \"text-align: left;\">0.0</td><td style = \"text-align: left;\">0.0</td><td style = \"text-align: left;\">0.0</td><td style = \"text-align: left;\">6000.0</td></tr><tr><td class = \"rowNumber\" style = \"font-weight: bold; text-align: right;\">15</td><td style = \"text-align: left;\">Finland</td><td style = \"text-align: left;\">Norway</td><td style = \"text-align: left;\">0.0</td><td style = \"text-align: left;\">0.0</td><td style = \"text-align: left;\">0.0</td><td style = \"text-align: left;\">6000.0</td></tr><tr><td class = \"rowNumber\" style = \"font-weight: bold; text-align: right;\">16</td><td style = \"text-align: left;\">Latvia</td><td style = \"text-align: left;\">Lithuania</td><td style = \"text-align: left;\">0.0</td><td style = \"text-align: left;\">0.0</td><td style = \"text-align: left;\">189.511</td><td style = \"text-align: left;\">2512.11</td></tr><tr><td class = \"rowNumber\" style = \"font-weight: bold; text-align: right;\">17</td><td style = \"text-align: left;\">Latvia</td><td style = \"text-align: left;\">Sweden</td><td style = \"text-align: left;\">0.0</td><td style = \"text-align: left;\">0.0</td><td style = \"text-align: left;\">6000.0</td><td style = \"text-align: left;\">6000.0</td></tr><tr><td class = \"rowNumber\" style = \"font-weight: bold; text-align: right;\">18</td><td style = \"text-align: left;\">Latvia</td><td style = \"text-align: left;\">Norway</td><td style = \"text-align: left;\">0.0</td><td style = \"text-align: left;\">0.0</td><td style = \"text-align: left;\">6000.0</td><td style = \"text-align: left;\">5544.5</td></tr><tr><td class = \"rowNumber\" style = \"font-weight: bold; text-align: right;\">19</td><td style = \"text-align: left;\">Lithuania</td><td style = \"text-align: left;\">Sweden</td><td style = \"text-align: left;\">0.0</td><td style = \"text-align: left;\">0.0</td><td style = \"text-align: left;\">6000.0</td><td style = \"text-align: left;\">0.0</td></tr><tr><td class = \"rowNumber\" style = \"font-weight: bold; text-align: right;\">20</td><td style = \"text-align: left;\">Lithuania</td><td style = \"text-align: left;\">Norway</td><td style = \"text-align: left;\">0.0</td><td style = \"text-align: left;\">0.0</td><td style = \"text-align: left;\">6000.0</td><td style = \"text-align: left;\">5509.73</td></tr><tr><td class = \"rowNumber\" style = \"font-weight: bold; text-align: right;\">21</td><td style = \"text-align: left;\">Sweden</td><td style = \"text-align: left;\">Norway</td><td style = \"text-align: left;\">0.0</td><td style = \"text-align: left;\">0.0</td><td style = \"text-align: left;\">6000.0</td><td style = \"text-align: left;\">6000.0</td></tr></tbody></table></div>"
      ],
      "text/latex": [
       "\\begin{tabular}{r|cccccc}\n",
       "\t& f\\_node & t\\_node & CBEO & CBRX & BBEO & BBRX\\\\\n",
       "\t\\hline\n",
       "\t& Any & Any & Any & Any & Any & Any\\\\\n",
       "\t\\hline\n",
       "\t1 & Denmark & Estonia & 0.0 & 0.0 & 4889.31 & 6000.0 \\\\\n",
       "\t2 & Denmark & Finland & 0.0 & 0.0 & 0.0 & 0.0 \\\\\n",
       "\t3 & Denmark & Latvia & 0.0 & 0.0 & 6000.0 & 0.0 \\\\\n",
       "\t4 & Denmark & Lithuania & 0.0 & 0.0 & 4604.82 & 0.0 \\\\\n",
       "\t5 & Denmark & Sweden & 0.0 & 0.0 & 6000.0 & 0.0 \\\\\n",
       "\t6 & Denmark & Norway & 0.0 & 0.0 & 6000.0 & 0.0 \\\\\n",
       "\t7 & Estonia & Finland & 0.0 & 0.0 & 6000.0 & 6000.0 \\\\\n",
       "\t8 & Estonia & Latvia & 0.0 & 0.0 & 6000.0 & 6000.0 \\\\\n",
       "\t9 & Estonia & Lithuania & 0.0 & 0.0 & 0.0 & 0.0 \\\\\n",
       "\t10 & Estonia & Sweden & 0.0 & 0.0 & 6000.0 & 6000.0 \\\\\n",
       "\t11 & Estonia & Norway & 0.0 & 0.0 & 6000.0 & 6000.0 \\\\\n",
       "\t12 & Finland & Latvia & 0.0 & 0.0 & 6000.0 & 6000.0 \\\\\n",
       "\t13 & Finland & Lithuania & 0.0 & 0.0 & 6000.0 & 6000.0 \\\\\n",
       "\t14 & Finland & Sweden & 0.0 & 0.0 & 0.0 & 6000.0 \\\\\n",
       "\t15 & Finland & Norway & 0.0 & 0.0 & 0.0 & 6000.0 \\\\\n",
       "\t16 & Latvia & Lithuania & 0.0 & 0.0 & 189.511 & 2512.11 \\\\\n",
       "\t17 & Latvia & Sweden & 0.0 & 0.0 & 6000.0 & 6000.0 \\\\\n",
       "\t18 & Latvia & Norway & 0.0 & 0.0 & 6000.0 & 5544.5 \\\\\n",
       "\t19 & Lithuania & Sweden & 0.0 & 0.0 & 6000.0 & 0.0 \\\\\n",
       "\t20 & Lithuania & Norway & 0.0 & 0.0 & 6000.0 & 5509.73 \\\\\n",
       "\t21 & Sweden & Norway & 0.0 & 0.0 & 6000.0 & 6000.0 \\\\\n",
       "\\end{tabular}\n"
      ],
      "text/plain": [
       "\u001b[1m21×6 DataFrame\u001b[0m\n",
       "\u001b[1m Row \u001b[0m│\u001b[1m f_node    \u001b[0m\u001b[1m t_node    \u001b[0m\u001b[1m CBEO \u001b[0m\u001b[1m CBRX \u001b[0m\u001b[1m BBEO    \u001b[0m\u001b[1m BBRX    \u001b[0m\n",
       "     │\u001b[90m Any       \u001b[0m\u001b[90m Any       \u001b[0m\u001b[90m Any  \u001b[0m\u001b[90m Any  \u001b[0m\u001b[90m Any     \u001b[0m\u001b[90m Any     \u001b[0m\n",
       "─────┼────────────────────────────────────────────────────\n",
       "   1 │ Denmark    Estonia    0.0   0.0   4889.31  6000.0\n",
       "   2 │ Denmark    Finland    0.0   0.0   0.0      0.0\n",
       "   3 │ Denmark    Latvia     0.0   0.0   6000.0   0.0\n",
       "   4 │ Denmark    Lithuania  0.0   0.0   4604.82  0.0\n",
       "   5 │ Denmark    Sweden     0.0   0.0   6000.0   0.0\n",
       "   6 │ Denmark    Norway     0.0   0.0   6000.0   0.0\n",
       "   7 │ Estonia    Finland    0.0   0.0   6000.0   6000.0\n",
       "   8 │ Estonia    Latvia     0.0   0.0   6000.0   6000.0\n",
       "  ⋮  │     ⋮          ⋮       ⋮     ⋮       ⋮        ⋮\n",
       "  15 │ Finland    Norway     0.0   0.0   0.0      6000.0\n",
       "  16 │ Latvia     Lithuania  0.0   0.0   189.511  2512.11\n",
       "  17 │ Latvia     Sweden     0.0   0.0   6000.0   6000.0\n",
       "  18 │ Latvia     Norway     0.0   0.0   6000.0   5544.5\n",
       "  19 │ Lithuania  Sweden     0.0   0.0   6000.0   0.0\n",
       "  20 │ Lithuania  Norway     0.0   0.0   6000.0   5509.73\n",
       "  21 │ Sweden     Norway     0.0   0.0   6000.0   6000.0\n",
       "\u001b[36m                                            6 rows omitted\u001b[0m"
      ]
     },
     "metadata": {},
     "output_type": "display_data"
    }
   ],
   "source": [
    "DataFrame([nodes[fullcdc.f_node,:name] nodes[fullcdc.t_node,:name] sum(CBEO.cap_dc,dims=2) sum(CBRX.cap_dc,dims=2) sum(BBEO.cap_dc,dims=2) sum(BBRX.cap_dc,dims=2)],[\"f_node\",\"t_node\",\"CBEO\",\"CBRX\",\"BBEO\",\"BBRX\"])"
   ]
  },
  {
   "cell_type": "code",
   "execution_count": 19,
   "metadata": {},
   "outputs": [],
   "source": []
  }
 ],
 "metadata": {
  "kernelspec": {
   "display_name": "Julia 1.9.3",
   "language": "julia",
   "name": "julia-1.9"
  },
  "language_info": {
   "file_extension": ".jl",
   "mimetype": "application/julia",
   "name": "julia",
   "version": "1.9.3"
  }
 },
 "nbformat": 4,
 "nbformat_minor": 2
}
