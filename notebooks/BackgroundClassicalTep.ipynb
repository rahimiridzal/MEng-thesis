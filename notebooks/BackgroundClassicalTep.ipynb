{
 "cells": [
  {
   "cell_type": "markdown",
   "metadata": {},
   "source": [
    "# Background: Classical TEP Model\n",
    "- Implementation of the classical TEP model on the Garver 6-bus system."
   ]
  },
  {
   "cell_type": "markdown",
   "metadata": {},
   "source": [
    "## Load Packages"
   ]
  },
  {
   "cell_type": "code",
   "execution_count": 1,
   "metadata": {},
   "outputs": [],
   "source": [
    "using JuMP, HiGHS\n",
    "using CSV, DataFrames"
   ]
  },
  {
   "cell_type": "markdown",
   "metadata": {},
   "source": [
    "## Load Data"
   ]
  },
  {
   "cell_type": "code",
   "execution_count": 2,
   "metadata": {},
   "outputs": [],
   "source": [
    "buses = CSV.read(joinpath(\"..\",\"data\",\"Garver\",\"buses.csv\"),DataFrame)\n",
    "generators = CSV.read(joinpath(\"..\",\"data\",\"Garver\",\"generators.csv\"),DataFrame)\n",
    "lines = CSV.read(joinpath(\"..\",\"data\",\"Garver\",\"lines.csv\"),DataFrame);"
   ]
  },
  {
   "cell_type": "markdown",
   "metadata": {},
   "source": [
    "## Classical TEP Formulation"
   ]
  },
  {
   "cell_type": "markdown",
   "metadata": {},
   "source": [
    "$\\begin{align}\n",
    "    &\\min \\quad Y \\times 8760 \\times \\left[\\sum_{g\\in G} Cost^{en}_g p_g + \\sum_{i\\in N} Cost^{voll} ens_i\\right] + \\sum_{ij\\in C^{ac}} Cost^{ac}_{ij}(-\\mathrm{A}_{ij} + \\sum_{k\\in K} \\alpha_{ij,k}) \\notag\\\\\n",
    "    &\\text{subject to} \\notag\\\\\n",
    "    &\\sum_{g\\in G_i} p_g + \\sum_{ij\\in C^{ac}} \\sum_{k\\in K}(f^{ac}_{ji,k} - f^{ac}_{ij,k}) = Load_i \\quad \\forall i\\in N \\notag\\\\\n",
    "    &-M(1-\\alpha_{ij,k}) \\leq f^{ac}_{ij,k} - S_{base}\\frac{\\theta_i - \\theta_j}{X_{ij}} \\leq M(1-\\alpha_{ij,k}) \\quad \\forall k\\in K, ij\\in C^{ac}\\\\\n",
    "    &-\\alpha_{k,ij}Cap_{ij} \\leq f_{ij,k}^{ac} \\leq \\alpha_{k,ij}Cap_{ij} \\quad \\forall k\\in K, ij\\in C^{ac} \\notag\\\\\n",
    "    &P_g^{min} \\leq p_g \\leq P_g^{max} \\quad \\forall g\\in G \\notag\\\\\n",
    "    &\\sum_{k\\in K} \\alpha_{ij,k} \\geq \\mathrm{A}_{ij} \\quad \\forall ij\\in C^{ac} \\notag\\\\\n",
    "    &\\alpha_{ij,k} \\in \\{0,1\\} \\quad \\forall k\\in K, ij\\in C^{ac} \\notag\\\\\n",
    "    &k\\in K, K = \\{1,2,3,4\\} \\notag\n",
    "\\end{align}$"
   ]
  },
  {
   "cell_type": "markdown",
   "metadata": {},
   "source": [
    "## Model Classical TEP using JuMP"
   ]
  },
  {
   "cell_type": "code",
   "execution_count": 3,
   "metadata": {},
   "outputs": [
    {
     "data": {
      "text/plain": [
       "classicaltep (generic function with 2 methods)"
      ]
     },
     "metadata": {},
     "output_type": "display_data"
    }
   ],
   "source": [
    "function classicaltep(buses, generators, lines, Y, M, max_k, VOLL, epsilon, S_base, silent_mode=false)\n",
    "    # SETS\n",
    "    N = buses.id\n",
    "    G = generators.id\n",
    "    C_ac = lines.id\n",
    "    K = 1:max_k\n",
    "\n",
    "    # INIT MODEL\n",
    "    model = Model()\n",
    "    set_optimizer(model, HiGHS.Optimizer)\n",
    "    set_optimizer_attribute(model, \"mip_rel_gap\", epsilon)\n",
    "    if silent_mode\n",
    "        set_silent(model)\n",
    "    end\n",
    "\n",
    "    # VARIABLES\n",
    "    @variables(model, begin\n",
    "        p[G] >= 0\n",
    "        ens[N] >= 0\n",
    "        f_ac[C_ac,K]\n",
    "        theta[N]\n",
    "        alpha[C_ac,K], Bin\n",
    "    end)\n",
    "    fix(theta[1], 0, force=true)\n",
    "\n",
    "    # OBJECTIVE FUNCTION\n",
    "    @expression(model, Cost_op, Y * 8760 * sum(generators[g, :cost] * p[g] for g in G))\n",
    "    @expression(model, Cost_ens, Y * 8760 * sum(VOLL * ens[i] for i in N))\n",
    "    @expression(model, Cost_ac, \n",
    "        sum(lines[l,:cost] * 1e6 * (sum(alpha[l,k] for k in K) - lines[l,:a]) for l in C_ac))\n",
    "    @objective(model, Min, Cost_op + Cost_ens + Cost_ac)\n",
    "\n",
    "    # CONSTRAINTS\n",
    "    @constraint(model, cPowerBalance[i in N], \n",
    "        sum(p[g] for g in generators[generators.node.==i,:id]) - \n",
    "        sum(f_ac[l,k] for l in lines[lines.from.==i,:id] for k in K) + \n",
    "        sum(f_ac[l,k] for l in lines[lines.to.==i,:id] for k in K) - ens[i] == buses[i,:load])\n",
    "    @constraint(model, cPowerFlowPositiveBigM[l in C_ac, k in K],\n",
    "        f_ac[l,k] - S_base*(1/lines[l,:x])*(theta[lines[l,:from]]-theta[lines[l,:to]]) <= \n",
    "        M*(1-alpha[l,k]))\n",
    "    @constraint(model, cPowerFlowNegativeBigM[l in C_ac, k in K],\n",
    "        f_ac[l,k] - S_base*(1/lines[l,:x])*(theta[lines[l,:from]]-theta[lines[l,:to]]) >= \n",
    "        -M*(1-alpha[l,k]))\n",
    "    @constraint(model, cLineThermalLimitPositive[l in C_ac, k in K], \n",
    "        f_ac[l,k] <= alpha[l,k] * lines[l,:cap])\n",
    "    @constraint(model, cLineThermalLimitNegative[l in C_ac, k in K], \n",
    "        f_ac[l,k] >= -alpha[l,k] * lines[l,:cap])\n",
    "    @constraint(model, cUnitThermalLimitMax[g in G],\n",
    "        p[g] <= generators[g,:pmax])\n",
    "    @constraint(model, cUnitThermalLimitMin[g in G],\n",
    "        p[g] >= generators[g,:pmin])\n",
    "    @constraint(model, cExistingLines[l in C_ac],\n",
    "        sum(alpha[l,k] for k in K) >= lines[l,:a])\n",
    "    \n",
    "    # SOLVE MODEL\n",
    "    optimize!(model)\n",
    "\n",
    "    # RETURN SOLUTIONS\n",
    "    return(\n",
    "        Cost_op = value(Cost_op),\n",
    "        Cost_ens = value(Cost_ens),\n",
    "        Cost_ac = value(Cost_ac),\n",
    "        p = value.(p).data,\n",
    "        f_ac = value.(f_ac).data,\n",
    "        theta = value.(theta).data,\n",
    "        alpha = value.(alpha).data,\n",
    "        ens = value.(ens).data,\n",
    "        Obj = objective_value(model)\n",
    "    )\n",
    "end"
   ]
  },
  {
   "cell_type": "markdown",
   "metadata": {},
   "source": [
    "## Parameters Setting"
   ]
  },
  {
   "cell_type": "code",
   "execution_count": 4,
   "metadata": {},
   "outputs": [],
   "source": [
    "M = 1000\n",
    "max_k = 4\n",
    "VOLL = 1000\n",
    "epsilon = 0.01\n",
    "S_base = 100\n",
    "silent_mode=true;"
   ]
  },
  {
   "cell_type": "markdown",
   "metadata": {},
   "source": [
    "## Solve TEP for Y=2"
   ]
  },
  {
   "cell_type": "code",
   "execution_count": 5,
   "metadata": {},
   "outputs": [],
   "source": [
    "sol_y2 = classicaltep(buses, generators, lines, 2, M, max_k, VOLL, epsilon, S_base, silent_mode);"
   ]
  },
  {
   "cell_type": "markdown",
   "metadata": {},
   "source": [
    "## Investment Decisions for Y=2"
   ]
  },
  {
   "cell_type": "code",
   "execution_count": 6,
   "metadata": {},
   "outputs": [
    {
     "data": {
      "text/html": [
       "<div><div style = \"float: left;\"><span>8×4 DataFrame</span></div><div style = \"clear: both;\"></div></div><div class = \"data-frame\" style = \"overflow-x: scroll;\"><table class = \"data-frame\" style = \"margin-bottom: 6px;\"><thead><tr class = \"header\"><th class = \"rowNumber\" style = \"font-weight: bold; text-align: right;\">Row</th><th style = \"text-align: left;\">line_id</th><th style = \"text-align: left;\">from</th><th style = \"text-align: left;\">to</th><th style = \"text-align: left;\">new_lines</th></tr><tr class = \"subheader headerLastRow\"><th class = \"rowNumber\" style = \"font-weight: bold; text-align: right;\"></th><th title = \"Float64\" style = \"text-align: left;\">Float64</th><th title = \"Float64\" style = \"text-align: left;\">Float64</th><th title = \"Float64\" style = \"text-align: left;\">Float64</th><th title = \"Float64\" style = \"text-align: left;\">Float64</th></tr></thead><tbody><tr><td class = \"rowNumber\" style = \"font-weight: bold; text-align: right;\">1</td><td style = \"text-align: right;\">1.0</td><td style = \"text-align: right;\">1.0</td><td style = \"text-align: right;\">2.0</td><td style = \"text-align: right;\">0.0</td></tr><tr><td class = \"rowNumber\" style = \"font-weight: bold; text-align: right;\">2</td><td style = \"text-align: right;\">2.0</td><td style = \"text-align: right;\">1.0</td><td style = \"text-align: right;\">4.0</td><td style = \"text-align: right;\">-0.0</td></tr><tr><td class = \"rowNumber\" style = \"font-weight: bold; text-align: right;\">3</td><td style = \"text-align: right;\">3.0</td><td style = \"text-align: right;\">1.0</td><td style = \"text-align: right;\">5.0</td><td style = \"text-align: right;\">1.0</td></tr><tr><td class = \"rowNumber\" style = \"font-weight: bold; text-align: right;\">4</td><td style = \"text-align: right;\">4.0</td><td style = \"text-align: right;\">2.0</td><td style = \"text-align: right;\">3.0</td><td style = \"text-align: right;\">0.0</td></tr><tr><td class = \"rowNumber\" style = \"font-weight: bold; text-align: right;\">5</td><td style = \"text-align: right;\">5.0</td><td style = \"text-align: right;\">2.0</td><td style = \"text-align: right;\">4.0</td><td style = \"text-align: right;\">0.0</td></tr><tr><td class = \"rowNumber\" style = \"font-weight: bold; text-align: right;\">6</td><td style = \"text-align: right;\">6.0</td><td style = \"text-align: right;\">2.0</td><td style = \"text-align: right;\">6.0</td><td style = \"text-align: right;\">3.0</td></tr><tr><td class = \"rowNumber\" style = \"font-weight: bold; text-align: right;\">7</td><td style = \"text-align: right;\">7.0</td><td style = \"text-align: right;\">3.0</td><td style = \"text-align: right;\">5.0</td><td style = \"text-align: right;\">0.0</td></tr><tr><td class = \"rowNumber\" style = \"font-weight: bold; text-align: right;\">8</td><td style = \"text-align: right;\">8.0</td><td style = \"text-align: right;\">4.0</td><td style = \"text-align: right;\">6.0</td><td style = \"text-align: right;\">0.0</td></tr></tbody></table></div>"
      ],
      "text/latex": [
       "\\begin{tabular}{r|cccc}\n",
       "\t& line\\_id & from & to & new\\_lines\\\\\n",
       "\t\\hline\n",
       "\t& Float64 & Float64 & Float64 & Float64\\\\\n",
       "\t\\hline\n",
       "\t1 & 1.0 & 1.0 & 2.0 & 0.0 \\\\\n",
       "\t2 & 2.0 & 1.0 & 4.0 & -0.0 \\\\\n",
       "\t3 & 3.0 & 1.0 & 5.0 & 1.0 \\\\\n",
       "\t4 & 4.0 & 2.0 & 3.0 & 0.0 \\\\\n",
       "\t5 & 5.0 & 2.0 & 4.0 & 0.0 \\\\\n",
       "\t6 & 6.0 & 2.0 & 6.0 & 3.0 \\\\\n",
       "\t7 & 7.0 & 3.0 & 5.0 & 0.0 \\\\\n",
       "\t8 & 8.0 & 4.0 & 6.0 & 0.0 \\\\\n",
       "\\end{tabular}\n"
      ],
      "text/plain": [
       "\u001b[1m8×4 DataFrame\u001b[0m\n",
       "\u001b[1m Row \u001b[0m│\u001b[1m line_id \u001b[0m\u001b[1m from    \u001b[0m\u001b[1m to      \u001b[0m\u001b[1m new_lines \u001b[0m\n",
       "     │\u001b[90m Float64 \u001b[0m\u001b[90m Float64 \u001b[0m\u001b[90m Float64 \u001b[0m\u001b[90m Float64   \u001b[0m\n",
       "─────┼──────────────────────────────────────\n",
       "   1 │     1.0      1.0      2.0        0.0\n",
       "   2 │     2.0      1.0      4.0       -0.0\n",
       "   3 │     3.0      1.0      5.0        1.0\n",
       "   4 │     4.0      2.0      3.0        0.0\n",
       "   5 │     5.0      2.0      4.0        0.0\n",
       "   6 │     6.0      2.0      6.0        3.0\n",
       "   7 │     7.0      3.0      5.0        0.0\n",
       "   8 │     8.0      4.0      6.0        0.0"
      ]
     },
     "metadata": {},
     "output_type": "display_data"
    }
   ],
   "source": [
    "DataFrame(\n",
    "    [lines.id lines.from lines.to round.(sum(sol_y2.alpha, dims=2) - lines[:,:a])], [:line_id, :from, :to, :new_lines]\n",
    "    )"
   ]
  },
  {
   "cell_type": "markdown",
   "metadata": {},
   "source": [
    "## Operation, Investment, ENS, and Total Cost for Y=2 in $M"
   ]
  },
  {
   "cell_type": "code",
   "execution_count": 7,
   "metadata": {},
   "outputs": [
    {
     "data": {
      "text/plain": [
       "(227.14164705882348, 109.99999999998678, 0.0, 337.14164705881024)"
      ]
     },
     "metadata": {},
     "output_type": "display_data"
    }
   ],
   "source": [
    "(sol_y2.Cost_op, sol_y2.Cost_ac, sol_y2.Cost_ens, sol_y2.Obj)./1e6"
   ]
  },
  {
   "cell_type": "markdown",
   "metadata": {},
   "source": [
    "## Solve TEP for Y=10"
   ]
  },
  {
   "cell_type": "code",
   "execution_count": 8,
   "metadata": {},
   "outputs": [],
   "source": [
    "sol_y10 = classicaltep(buses, generators, lines, 10, M, max_k, VOLL, epsilon, S_base, silent_mode);"
   ]
  },
  {
   "cell_type": "markdown",
   "metadata": {},
   "source": [
    "## Investment Decisions for Y=10"
   ]
  },
  {
   "cell_type": "code",
   "execution_count": 9,
   "metadata": {},
   "outputs": [
    {
     "data": {
      "text/html": [
       "<div><div style = \"float: left;\"><span>8×4 DataFrame</span></div><div style = \"clear: both;\"></div></div><div class = \"data-frame\" style = \"overflow-x: scroll;\"><table class = \"data-frame\" style = \"margin-bottom: 6px;\"><thead><tr class = \"header\"><th class = \"rowNumber\" style = \"font-weight: bold; text-align: right;\">Row</th><th style = \"text-align: left;\">line_id</th><th style = \"text-align: left;\">from</th><th style = \"text-align: left;\">to</th><th style = \"text-align: left;\">new_lines</th></tr><tr class = \"subheader headerLastRow\"><th class = \"rowNumber\" style = \"font-weight: bold; text-align: right;\"></th><th title = \"Float64\" style = \"text-align: left;\">Float64</th><th title = \"Float64\" style = \"text-align: left;\">Float64</th><th title = \"Float64\" style = \"text-align: left;\">Float64</th><th title = \"Float64\" style = \"text-align: left;\">Float64</th></tr></thead><tbody><tr><td class = \"rowNumber\" style = \"font-weight: bold; text-align: right;\">1</td><td style = \"text-align: right;\">1.0</td><td style = \"text-align: right;\">1.0</td><td style = \"text-align: right;\">2.0</td><td style = \"text-align: right;\">0.0</td></tr><tr><td class = \"rowNumber\" style = \"font-weight: bold; text-align: right;\">2</td><td style = \"text-align: right;\">2.0</td><td style = \"text-align: right;\">1.0</td><td style = \"text-align: right;\">4.0</td><td style = \"text-align: right;\">0.0</td></tr><tr><td class = \"rowNumber\" style = \"font-weight: bold; text-align: right;\">3</td><td style = \"text-align: right;\">3.0</td><td style = \"text-align: right;\">1.0</td><td style = \"text-align: right;\">5.0</td><td style = \"text-align: right;\">1.0</td></tr><tr><td class = \"rowNumber\" style = \"font-weight: bold; text-align: right;\">4</td><td style = \"text-align: right;\">4.0</td><td style = \"text-align: right;\">2.0</td><td style = \"text-align: right;\">3.0</td><td style = \"text-align: right;\">1.0</td></tr><tr><td class = \"rowNumber\" style = \"font-weight: bold; text-align: right;\">5</td><td style = \"text-align: right;\">5.0</td><td style = \"text-align: right;\">2.0</td><td style = \"text-align: right;\">4.0</td><td style = \"text-align: right;\">0.0</td></tr><tr><td class = \"rowNumber\" style = \"font-weight: bold; text-align: right;\">6</td><td style = \"text-align: right;\">6.0</td><td style = \"text-align: right;\">2.0</td><td style = \"text-align: right;\">6.0</td><td style = \"text-align: right;\">4.0</td></tr><tr><td class = \"rowNumber\" style = \"font-weight: bold; text-align: right;\">7</td><td style = \"text-align: right;\">7.0</td><td style = \"text-align: right;\">3.0</td><td style = \"text-align: right;\">5.0</td><td style = \"text-align: right;\">0.0</td></tr><tr><td class = \"rowNumber\" style = \"font-weight: bold; text-align: right;\">8</td><td style = \"text-align: right;\">8.0</td><td style = \"text-align: right;\">4.0</td><td style = \"text-align: right;\">6.0</td><td style = \"text-align: right;\">2.0</td></tr></tbody></table></div>"
      ],
      "text/latex": [
       "\\begin{tabular}{r|cccc}\n",
       "\t& line\\_id & from & to & new\\_lines\\\\\n",
       "\t\\hline\n",
       "\t& Float64 & Float64 & Float64 & Float64\\\\\n",
       "\t\\hline\n",
       "\t1 & 1.0 & 1.0 & 2.0 & 0.0 \\\\\n",
       "\t2 & 2.0 & 1.0 & 4.0 & 0.0 \\\\\n",
       "\t3 & 3.0 & 1.0 & 5.0 & 1.0 \\\\\n",
       "\t4 & 4.0 & 2.0 & 3.0 & 1.0 \\\\\n",
       "\t5 & 5.0 & 2.0 & 4.0 & 0.0 \\\\\n",
       "\t6 & 6.0 & 2.0 & 6.0 & 4.0 \\\\\n",
       "\t7 & 7.0 & 3.0 & 5.0 & 0.0 \\\\\n",
       "\t8 & 8.0 & 4.0 & 6.0 & 2.0 \\\\\n",
       "\\end{tabular}\n"
      ],
      "text/plain": [
       "\u001b[1m8×4 DataFrame\u001b[0m\n",
       "\u001b[1m Row \u001b[0m│\u001b[1m line_id \u001b[0m\u001b[1m from    \u001b[0m\u001b[1m to      \u001b[0m\u001b[1m new_lines \u001b[0m\n",
       "     │\u001b[90m Float64 \u001b[0m\u001b[90m Float64 \u001b[0m\u001b[90m Float64 \u001b[0m\u001b[90m Float64   \u001b[0m\n",
       "─────┼──────────────────────────────────────\n",
       "   1 │     1.0      1.0      2.0        0.0\n",
       "   2 │     2.0      1.0      4.0        0.0\n",
       "   3 │     3.0      1.0      5.0        1.0\n",
       "   4 │     4.0      2.0      3.0        1.0\n",
       "   5 │     5.0      2.0      4.0        0.0\n",
       "   6 │     6.0      2.0      6.0        4.0\n",
       "   7 │     7.0      3.0      5.0        0.0\n",
       "   8 │     8.0      4.0      6.0        2.0"
      ]
     },
     "metadata": {},
     "output_type": "display_data"
    }
   ],
   "source": [
    "DataFrame(\n",
    "    [lines.id lines.from lines.to round.(sum(sol_y10.alpha, dims=2) - lines[:,:a])], [:line_id, :from, :to, :new_lines]\n",
    "    )"
   ]
  },
  {
   "cell_type": "markdown",
   "metadata": {},
   "source": [
    "## Operation, Investment, ENS, and Total Cost for Y=10 in $M"
   ]
  },
  {
   "cell_type": "code",
   "execution_count": 10,
   "metadata": {},
   "outputs": [
    {
     "data": {
      "text/plain": [
       "(814.2628571428511, 220.00000000000023, 0.0, 1034.2628571428515)"
      ]
     },
     "metadata": {},
     "output_type": "display_data"
    }
   ],
   "source": [
    "(sol_y10.Cost_op, sol_y10.Cost_ac, sol_y10.Cost_ens, sol_y10.Obj)./1e6"
   ]
  },
  {
   "cell_type": "markdown",
   "metadata": {},
   "source": [
    "## Comparison between Y=2 and Y=10"
   ]
  },
  {
   "cell_type": "code",
   "execution_count": 11,
   "metadata": {},
   "outputs": [
    {
     "data": {
      "text/html": [
       "<div><div style = \"float: left;\"><span>2×5 DataFrame</span></div><div style = \"clear: both;\"></div></div><div class = \"data-frame\" style = \"overflow-x: scroll;\"><table class = \"data-frame\" style = \"margin-bottom: 6px;\"><thead><tr class = \"header\"><th class = \"rowNumber\" style = \"font-weight: bold; text-align: right;\">Row</th><th style = \"text-align: left;\">Y</th><th style = \"text-align: left;\">Cost_op</th><th style = \"text-align: left;\">Cost_ac</th><th style = \"text-align: left;\">Cost_ens</th><th style = \"text-align: left;\">Total</th></tr><tr class = \"subheader headerLastRow\"><th class = \"rowNumber\" style = \"font-weight: bold; text-align: right;\"></th><th title = \"Int64\" style = \"text-align: left;\">Int64</th><th title = \"Float64\" style = \"text-align: left;\">Float64</th><th title = \"Float64\" style = \"text-align: left;\">Float64</th><th title = \"Float64\" style = \"text-align: left;\">Float64</th><th title = \"Float64\" style = \"text-align: left;\">Float64</th></tr></thead><tbody><tr><td class = \"rowNumber\" style = \"font-weight: bold; text-align: right;\">1</td><td style = \"text-align: right;\">2</td><td style = \"text-align: right;\">227.142</td><td style = \"text-align: right;\">110.0</td><td style = \"text-align: right;\">0.0</td><td style = \"text-align: right;\">337.142</td></tr><tr><td class = \"rowNumber\" style = \"font-weight: bold; text-align: right;\">2</td><td style = \"text-align: right;\">10</td><td style = \"text-align: right;\">814.263</td><td style = \"text-align: right;\">220.0</td><td style = \"text-align: right;\">0.0</td><td style = \"text-align: right;\">1034.26</td></tr></tbody></table></div>"
      ],
      "text/latex": [
       "\\begin{tabular}{r|ccccc}\n",
       "\t& Y & Cost\\_op & Cost\\_ac & Cost\\_ens & Total\\\\\n",
       "\t\\hline\n",
       "\t& Int64 & Float64 & Float64 & Float64 & Float64\\\\\n",
       "\t\\hline\n",
       "\t1 & 2 & 227.142 & 110.0 & 0.0 & 337.142 \\\\\n",
       "\t2 & 10 & 814.263 & 220.0 & 0.0 & 1034.26 \\\\\n",
       "\\end{tabular}\n"
      ],
      "text/plain": [
       "\u001b[1m2×5 DataFrame\u001b[0m\n",
       "\u001b[1m Row \u001b[0m│\u001b[1m Y     \u001b[0m\u001b[1m Cost_op \u001b[0m\u001b[1m Cost_ac \u001b[0m\u001b[1m Cost_ens \u001b[0m\u001b[1m Total    \u001b[0m\n",
       "     │\u001b[90m Int64 \u001b[0m\u001b[90m Float64 \u001b[0m\u001b[90m Float64 \u001b[0m\u001b[90m Float64  \u001b[0m\u001b[90m Float64  \u001b[0m\n",
       "─────┼─────────────────────────────────────────────\n",
       "   1 │     2  227.142    110.0       0.0   337.142\n",
       "   2 │    10  814.263    220.0       0.0  1034.26"
      ]
     },
     "metadata": {},
     "output_type": "display_data"
    }
   ],
   "source": [
    "summary = DataFrame(\n",
    "    [collect((sol_y2.Cost_op, sol_y2.Cost_ac, sol_y2.Cost_ens, sol_y2.Obj)./1e6)';\n",
    "    collect((sol_y10.Cost_op, sol_y10.Cost_ac, sol_y10.Cost_ens, sol_y10.Obj)./1e6)'],\n",
    "    [:Cost_op, :Cost_ac, :Cost_ens, :Total])\n",
    "insertcols!(summary,1,:Y=>[2,10])\n",
    "summary"
   ]
  },
  {
   "cell_type": "code",
   "execution_count": 12,
   "metadata": {},
   "outputs": [],
   "source": []
  }
 ],
 "metadata": {
  "kernelspec": {
   "display_name": "Julia 1.9.3",
   "language": "julia",
   "name": "julia-1.9"
  },
  "language_info": {
   "file_extension": ".jl",
   "mimetype": "application/julia",
   "name": "julia",
   "version": "1.9.3"
  }
 },
 "nbformat": 4,
 "nbformat_minor": 2
}
