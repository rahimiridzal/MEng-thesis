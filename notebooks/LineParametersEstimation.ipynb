{
 "cells": [
  {
   "cell_type": "markdown",
   "metadata": {},
   "source": [
    "# Line Parameters Estimation"
   ]
  },
  {
   "cell_type": "markdown",
   "metadata": {},
   "source": [
    "## Haversine distance between two nodes"
   ]
  },
  {
   "cell_type": "markdown",
   "metadata": {},
   "source": [
    "The distance between nodes is calculated using the haversine formula. Haversine formula calculates the great-circle distance between two points, i.e. the shortest distance over the Earth's surface. The haversine formula is given as follows.\n",
    "\n",
    "$\\begin{align}\n",
    "&\\text{\\underline{Haversine formula}} \\notag \\\\\n",
    "&a = \\sin^2(\\Delta\\frac{\\phi}{2}) + \\cos \\phi_1 \\cos \\phi_2 \\sin^2(\\Delta\\frac{\\lambda}{2}) \\notag\\\\\n",
    "&c = 2 \\times \\text{atan2}(\\sqrt{a},\\sqrt{1-a}) \\notag\\\\\n",
    "&distance = R \\times c \\notag\\\\\n",
    "&\\text{where } \\phi \\text{ is latitude (rad), } \\lambda \\text{ is longitude (rad), and } R \\text{ is the Earth radius (6,371km).} \\notag\n",
    "\\end{align}$"
   ]
  },
  {
   "cell_type": "markdown",
   "metadata": {},
   "source": [
    "## Reactance and resistance approximation"
   ]
  },
  {
   "cell_type": "markdown",
   "metadata": {},
   "source": [
    "Given the distance between nodes, i.e. the estimated length of candidates, we can now approximate the reactance of the AC line and the resistance of the HVDC link in terms of length based on the following references [],[].\n",
    "\n",
    "The reactance of the AC line, $x_{ij}$, can be approximated using the following equation.\n",
    "\n",
    "$\\begin{align}\n",
    "&x_{ij} = L \\times x^{pos-seq} \\notag\\\\\n",
    "&\\text{where } L \\text{ is the length of AC line } x_{ij} \\text{ (km)}\\notag\\\\\n",
    "&\\text{ and } x^{pos-seq} \\text{ is the positive-sequence reactance, which is typically }0.327\\Omega/\\text{km}\n",
    "\\end{align}$\n",
    "\n",
    "Furthermore, the resistance of the HVDC link, $r_{ij}$, can be approximated using the following equation.\n",
    "\n",
    "$\\begin{align}\n",
    "&r_{ij} = L \\times r^{pos-seq} \\notag\\\\\n",
    "&\\text{where } L \\text{ is the length of HVDC link } r_{ij} \\text{ (km)}\\notag\\\\\n",
    "&\\text{ and } r^{pos-seq} \\text{ is the positive-sequence resistance, which is typically }0.0378\\Omega/\\text{km}\n",
    "\\end{align}$"
   ]
  },
  {
   "cell_type": "markdown",
   "metadata": {},
   "source": [
    "We convert the line reactance and link resistance to their per-unit equivalents. Base voltage of 400kV and base power of 100MVA are used according to []. The base impedance can be calculated as follows.\n",
    "\n",
    "$\\begin{align}\n",
    "z_{base} = \\frac{v_{base}^2}{s_{base}} = \\frac{400kV^2}{100MVA} = 1600\\Omega\n",
    "\\end{align}$\n",
    "\n",
    "Thus, the per-unit reactance and resistance can be calculated accordingly.\n",
    "\n",
    "$\\begin{align}\n",
    "z_{pu} = \\frac{z}{z_{base}} = \\frac{r + jx}{z_{base}}\n",
    "\\end{align}$\n",
    "\n",
    "For AC line, $ z = jx $, and for HVDC link $ z = r $."
   ]
  },
  {
   "cell_type": "markdown",
   "metadata": {},
   "source": [
    "## Load package"
   ]
  },
  {
   "cell_type": "code",
   "execution_count": 1,
   "metadata": {},
   "outputs": [
    {
     "data": {
      "text/plain": [
       "getFullCandidateLines"
      ]
     },
     "metadata": {},
     "output_type": "display_data"
    }
   ],
   "source": [
    "using CSV, DataFrames\n",
    "using Combinatorics\n",
    "include(joinpath(\"..\",\"src\",\"utils.jl\"))"
   ]
  },
  {
   "cell_type": "markdown",
   "metadata": {},
   "source": [
    "## Load data"
   ]
  },
  {
   "cell_type": "code",
   "execution_count": 2,
   "metadata": {},
   "outputs": [
    {
     "data": {
      "text/html": [
       "<div><div style = \"float: left;\"><span>10×15 DataFrame</span></div><div style = \"clear: both;\"></div></div><div class = \"data-frame\" style = \"overflow-x: scroll;\"><table class = \"data-frame\" style = \"margin-bottom: 6px;\"><thead><tr class = \"header\"><th class = \"rowNumber\" style = \"font-weight: bold; text-align: right;\">Row</th><th style = \"text-align: left;\">id</th><th style = \"text-align: left;\">name_id</th><th style = \"text-align: left;\">name</th><th style = \"text-align: left;\">node</th><th style = \"text-align: left;\">node_name</th><th style = \"text-align: left;\">carrier</th><th style = \"text-align: left;\">type</th><th style = \"text-align: left;\">pmax</th><th style = \"text-align: left;\">encost</th><th style = \"text-align: left;\">rucost</th><th style = \"text-align: left;\">rdcost</th><th style = \"text-align: left;\">efficiency</th><th style = \"text-align: left;\">pu_max</th><th style = \"text-align: left;\">pu_min</th><th style = \"text-align: left;\">area</th></tr><tr class = \"subheader headerLastRow\"><th class = \"rowNumber\" style = \"font-weight: bold; text-align: right;\"></th><th title = \"Int64\" style = \"text-align: left;\">Int64</th><th title = \"String31\" style = \"text-align: left;\">String31</th><th title = \"String\" style = \"text-align: left;\">String</th><th title = \"Int64\" style = \"text-align: left;\">Int64</th><th title = \"String15\" style = \"text-align: left;\">String15</th><th title = \"String15\" style = \"text-align: left;\">String15</th><th title = \"String15\" style = \"text-align: left;\">String15</th><th title = \"Float64\" style = \"text-align: left;\">Float64</th><th title = \"Float64\" style = \"text-align: left;\">Float64</th><th title = \"Float64\" style = \"text-align: left;\">Float64</th><th title = \"Float64\" style = \"text-align: left;\">Float64</th><th title = \"Float64\" style = \"text-align: left;\">Float64</th><th title = \"Int64\" style = \"text-align: left;\">Int64</th><th title = \"Float64\" style = \"text-align: left;\">Float64</th><th title = \"Int64\" style = \"text-align: left;\">Int64</th></tr></thead><tbody><tr><td class = \"rowNumber\" style = \"font-weight: bold; text-align: right;\">1</td><td style = \"text-align: right;\">1</td><td style = \"text-align: left;\">Esbjerg1_GAS</td><td style = \"text-align: left;\">Esbjerg Reserve power station</td><td style = \"text-align: right;\">1</td><td style = \"text-align: left;\">Denmark</td><td style = \"text-align: left;\">Gas</td><td style = \"text-align: left;\">Gas</td><td style = \"text-align: right;\">25.0</td><td style = \"text-align: right;\">118.93</td><td style = \"text-align: right;\">29.7325</td><td style = \"text-align: right;\">29.7325</td><td style = \"text-align: right;\">0.35</td><td style = \"text-align: right;\">1</td><td style = \"text-align: right;\">0.0</td><td style = \"text-align: right;\">1</td></tr><tr><td class = \"rowNumber\" style = \"font-weight: bold; text-align: right;\">2</td><td style = \"text-align: right;\">2</td><td style = \"text-align: left;\">Grenaa1_GAS</td><td style = \"text-align: left;\">Grenaa Reserve power station</td><td style = \"text-align: right;\">1</td><td style = \"text-align: left;\">Denmark</td><td style = \"text-align: left;\">Gas</td><td style = \"text-align: left;\">Gas</td><td style = \"text-align: right;\">25.0</td><td style = \"text-align: right;\">118.93</td><td style = \"text-align: right;\">29.7325</td><td style = \"text-align: right;\">29.7325</td><td style = \"text-align: right;\">0.35</td><td style = \"text-align: right;\">1</td><td style = \"text-align: right;\">0.0</td><td style = \"text-align: right;\">1</td></tr><tr><td class = \"rowNumber\" style = \"font-weight: bold; text-align: right;\">3</td><td style = \"text-align: right;\">3</td><td style = \"text-align: left;\">IRU_GAS</td><td style = \"text-align: left;\">IRU Elektrijaam power station</td><td style = \"text-align: right;\">2</td><td style = \"text-align: left;\">Estonia</td><td style = \"text-align: left;\">Gas</td><td style = \"text-align: left;\">Gas</td><td style = \"text-align: right;\">173.0</td><td style = \"text-align: right;\">92.5</td><td style = \"text-align: right;\">23.125</td><td style = \"text-align: right;\">23.125</td><td style = \"text-align: right;\">0.45</td><td style = \"text-align: right;\">1</td><td style = \"text-align: right;\">0.0</td><td style = \"text-align: right;\">2</td></tr><tr><td class = \"rowNumber\" style = \"font-weight: bold; text-align: right;\">4</td><td style = \"text-align: right;\">4</td><td style = \"text-align: left;\">Lietuvos1_GAS</td><td style = \"text-align: left;\">Lietuvos power station</td><td style = \"text-align: right;\">5</td><td style = \"text-align: left;\">Lithuania</td><td style = \"text-align: left;\">Gas</td><td style = \"text-align: left;\">Gas</td><td style = \"text-align: right;\">300.0</td><td style = \"text-align: right;\">118.93</td><td style = \"text-align: right;\">29.7325</td><td style = \"text-align: right;\">29.7325</td><td style = \"text-align: right;\">0.35</td><td style = \"text-align: right;\">1</td><td style = \"text-align: right;\">0.0</td><td style = \"text-align: right;\">2</td></tr><tr><td class = \"rowNumber\" style = \"font-weight: bold; text-align: right;\">5</td><td style = \"text-align: right;\">5</td><td style = \"text-align: left;\">Lietuvos2_GAS</td><td style = \"text-align: left;\">Lietuvos power station</td><td style = \"text-align: right;\">5</td><td style = \"text-align: left;\">Lithuania</td><td style = \"text-align: left;\">Gas</td><td style = \"text-align: left;\">Gas</td><td style = \"text-align: right;\">300.0</td><td style = \"text-align: right;\">118.93</td><td style = \"text-align: right;\">29.7325</td><td style = \"text-align: right;\">29.7325</td><td style = \"text-align: right;\">0.35</td><td style = \"text-align: right;\">1</td><td style = \"text-align: right;\">0.0</td><td style = \"text-align: right;\">2</td></tr><tr><td class = \"rowNumber\" style = \"font-weight: bold; text-align: right;\">6</td><td style = \"text-align: right;\">6</td><td style = \"text-align: left;\">Lietuvos3_GAS</td><td style = \"text-align: left;\">Lietuvos power station</td><td style = \"text-align: right;\">5</td><td style = \"text-align: left;\">Lithuania</td><td style = \"text-align: left;\">Gas</td><td style = \"text-align: left;\">Gas</td><td style = \"text-align: right;\">445.0</td><td style = \"text-align: right;\">75.68</td><td style = \"text-align: right;\">18.92</td><td style = \"text-align: right;\">18.92</td><td style = \"text-align: right;\">0.55</td><td style = \"text-align: right;\">1</td><td style = \"text-align: right;\">0.0</td><td style = \"text-align: right;\">2</td></tr><tr><td class = \"rowNumber\" style = \"font-weight: bold; text-align: right;\">7</td><td style = \"text-align: right;\">7</td><td style = \"text-align: left;\">Fyns7_GAS</td><td style = \"text-align: left;\">Fyns power station</td><td style = \"text-align: right;\">1</td><td style = \"text-align: left;\">Denmark</td><td style = \"text-align: left;\">Gas</td><td style = \"text-align: left;\">Gas</td><td style = \"text-align: right;\">362.0</td><td style = \"text-align: right;\">75.7</td><td style = \"text-align: right;\">18.925</td><td style = \"text-align: right;\">18.925</td><td style = \"text-align: right;\">0.55</td><td style = \"text-align: right;\">1</td><td style = \"text-align: right;\">0.0</td><td style = \"text-align: right;\">1</td></tr><tr><td class = \"rowNumber\" style = \"font-weight: bold; text-align: right;\">8</td><td style = \"text-align: right;\">8</td><td style = \"text-align: left;\">Hammerfest_GAS</td><td style = \"text-align: left;\">Hammerfest Snohvit Terminal power station</td><td style = \"text-align: right;\">7</td><td style = \"text-align: left;\">Norway</td><td style = \"text-align: left;\">Gas</td><td style = \"text-align: left;\">Gas</td><td style = \"text-align: right;\">229.0</td><td style = \"text-align: right;\">75.7</td><td style = \"text-align: right;\">18.925</td><td style = \"text-align: right;\">18.925</td><td style = \"text-align: right;\">0.55</td><td style = \"text-align: right;\">1</td><td style = \"text-align: right;\">0.0</td><td style = \"text-align: right;\">1</td></tr><tr><td class = \"rowNumber\" style = \"font-weight: bold; text-align: right;\">9</td><td style = \"text-align: right;\">9</td><td style = \"text-align: left;\">Hillerød1_GAS_CHP</td><td style = \"text-align: left;\">Hillerød power station</td><td style = \"text-align: right;\">1</td><td style = \"text-align: left;\">Denmark</td><td style = \"text-align: left;\">Gas</td><td style = \"text-align: left;\">Gas CHP</td><td style = \"text-align: right;\">75.0</td><td style = \"text-align: right;\">81.5</td><td style = \"text-align: right;\">20.375</td><td style = \"text-align: right;\">20.375</td><td style = \"text-align: right;\">0.51</td><td style = \"text-align: right;\">1</td><td style = \"text-align: right;\">0.0</td><td style = \"text-align: right;\">1</td></tr><tr><td class = \"rowNumber\" style = \"font-weight: bold; text-align: right;\">10</td><td style = \"text-align: right;\">10</td><td style = \"text-align: left;\">Horsens1_GAS_CHP</td><td style = \"text-align: left;\">Horsens power station</td><td style = \"text-align: right;\">1</td><td style = \"text-align: left;\">Denmark</td><td style = \"text-align: left;\">Gas</td><td style = \"text-align: left;\">Gas CHP</td><td style = \"text-align: right;\">93.0</td><td style = \"text-align: right;\">81.5</td><td style = \"text-align: right;\">20.375</td><td style = \"text-align: right;\">20.375</td><td style = \"text-align: right;\">0.51</td><td style = \"text-align: right;\">1</td><td style = \"text-align: right;\">0.0</td><td style = \"text-align: right;\">1</td></tr></tbody></table></div>"
      ],
      "text/latex": [
       "\\begin{tabular}{r|cccccc}\n",
       "\t& id & name\\_id & name & node & node\\_name & \\\\\n",
       "\t\\hline\n",
       "\t& Int64 & String31 & String & Int64 & String15 & \\\\\n",
       "\t\\hline\n",
       "\t1 & 1 & Esbjerg1\\_GAS & Esbjerg Reserve power station & 1 & Denmark & $\\dots$ \\\\\n",
       "\t2 & 2 & Grenaa1\\_GAS & Grenaa Reserve power station & 1 & Denmark & $\\dots$ \\\\\n",
       "\t3 & 3 & IRU\\_GAS & IRU Elektrijaam power station & 2 & Estonia & $\\dots$ \\\\\n",
       "\t4 & 4 & Lietuvos1\\_GAS & Lietuvos power station & 5 & Lithuania & $\\dots$ \\\\\n",
       "\t5 & 5 & Lietuvos2\\_GAS & Lietuvos power station & 5 & Lithuania & $\\dots$ \\\\\n",
       "\t6 & 6 & Lietuvos3\\_GAS & Lietuvos power station & 5 & Lithuania & $\\dots$ \\\\\n",
       "\t7 & 7 & Fyns7\\_GAS & Fyns power station & 1 & Denmark & $\\dots$ \\\\\n",
       "\t8 & 8 & Hammerfest\\_GAS & Hammerfest Snohvit Terminal power station & 7 & Norway & $\\dots$ \\\\\n",
       "\t9 & 9 & Hillerød1\\_GAS\\_CHP & Hillerød power station & 1 & Denmark & $\\dots$ \\\\\n",
       "\t10 & 10 & Horsens1\\_GAS\\_CHP & Horsens power station & 1 & Denmark & $\\dots$ \\\\\n",
       "\\end{tabular}\n"
      ],
      "text/plain": [
       "\u001b[1m10×15 DataFrame\u001b[0m\n",
       "\u001b[1m Row \u001b[0m│\u001b[1m id    \u001b[0m\u001b[1m name_id           \u001b[0m\u001b[1m name                              \u001b[0m\u001b[1m node  \u001b[0m\u001b[1m nod\u001b[0m ⋯\n",
       "     │\u001b[90m Int64 \u001b[0m\u001b[90m String31          \u001b[0m\u001b[90m String                            \u001b[0m\u001b[90m Int64 \u001b[0m\u001b[90m Str\u001b[0m ⋯\n",
       "─────┼──────────────────────────────────────────────────────────────────────────\n",
       "   1 │     1  Esbjerg1_GAS       Esbjerg Reserve power station          1  Den ⋯\n",
       "   2 │     2  Grenaa1_GAS        Grenaa Reserve power station           1  Den\n",
       "   3 │     3  IRU_GAS            IRU Elektrijaam power station          2  Est\n",
       "   4 │     4  Lietuvos1_GAS      Lietuvos power station                 5  Lit\n",
       "   5 │     5  Lietuvos2_GAS      Lietuvos power station                 5  Lit ⋯\n",
       "   6 │     6  Lietuvos3_GAS      Lietuvos power station                 5  Lit\n",
       "   7 │     7  Fyns7_GAS          Fyns power station                     1  Den\n",
       "   8 │     8  Hammerfest_GAS     Hammerfest Snohvit Terminal powe…      7  Nor\n",
       "   9 │     9  Hillerød1_GAS_CHP  Hillerød power station                 1  Den ⋯\n",
       "  10 │    10  Horsens1_GAS_CHP   Horsens power station                  1  Den\n",
       "\u001b[36m                                                              11 columns omitted\u001b[0m"
      ]
     },
     "metadata": {},
     "output_type": "display_data"
    }
   ],
   "source": [
    "# network data\n",
    "nodes = CSV.read(joinpath(\"..\",\"data\",\"NordicBaltic\",\"nodes.csv\"),DataFrame)\n",
    "generators = CSV.read(joinpath(\"..\",\"data\",\"NordicBaltic\",\"generators.csv\"),DataFrame)\n",
    "first(generators,10)"
   ]
  },
  {
   "cell_type": "markdown",
   "metadata": {},
   "source": [
    "## Get full candidate HVAC lines\n",
    "- Only connection within the same area is permitted -> ignore_area=false"
   ]
  },
  {
   "cell_type": "code",
   "execution_count": 3,
   "metadata": {},
   "outputs": [
    {
     "data": {
      "text/html": [
       "<div><div style = \"float: left;\"><span>9×7 DataFrame</span></div><div style = \"clear: both;\"></div></div><div class = \"data-frame\" style = \"overflow-x: scroll;\"><table class = \"data-frame\" style = \"margin-bottom: 6px;\"><thead><tr class = \"header\"><th class = \"rowNumber\" style = \"font-weight: bold; text-align: right;\">Row</th><th style = \"text-align: left;\">id</th><th style = \"text-align: left;\">f_node</th><th style = \"text-align: left;\">t_node</th><th style = \"text-align: left;\">f_area</th><th style = \"text-align: left;\">t_area</th><th style = \"text-align: left;\">length</th><th style = \"text-align: left;\">x</th></tr><tr class = \"subheader headerLastRow\"><th class = \"rowNumber\" style = \"font-weight: bold; text-align: right;\"></th><th title = \"Int64\" style = \"text-align: left;\">Int64</th><th title = \"Any\" style = \"text-align: left;\">Any</th><th title = \"Any\" style = \"text-align: left;\">Any</th><th title = \"Int64\" style = \"text-align: left;\">Int64</th><th title = \"Int64\" style = \"text-align: left;\">Int64</th><th title = \"Float64\" style = \"text-align: left;\">Float64</th><th title = \"Float64\" style = \"text-align: left;\">Float64</th></tr></thead><tbody><tr><td class = \"rowNumber\" style = \"font-weight: bold; text-align: right;\">1</td><td style = \"text-align: right;\">1</td><td style = \"text-align: left;\">1</td><td style = \"text-align: left;\">3</td><td style = \"text-align: right;\">1</td><td style = \"text-align: right;\">1</td><td style = \"text-align: right;\">1167.18</td><td style = \"text-align: right;\">0.238543</td></tr><tr><td class = \"rowNumber\" style = \"font-weight: bold; text-align: right;\">2</td><td style = \"text-align: right;\">2</td><td style = \"text-align: left;\">1</td><td style = \"text-align: left;\">6</td><td style = \"text-align: right;\">1</td><td style = \"text-align: right;\">1</td><td style = \"text-align: right;\">296.174</td><td style = \"text-align: right;\">0.0605306</td></tr><tr><td class = \"rowNumber\" style = \"font-weight: bold; text-align: right;\">3</td><td style = \"text-align: right;\">3</td><td style = \"text-align: left;\">1</td><td style = \"text-align: left;\">7</td><td style = \"text-align: right;\">1</td><td style = \"text-align: right;\">1</td><td style = \"text-align: right;\">544.403</td><td style = \"text-align: right;\">0.111262</td></tr><tr><td class = \"rowNumber\" style = \"font-weight: bold; text-align: right;\">4</td><td style = \"text-align: right;\">4</td><td style = \"text-align: left;\">3</td><td style = \"text-align: left;\">6</td><td style = \"text-align: right;\">1</td><td style = \"text-align: right;\">1</td><td style = \"text-align: right;\">925.963</td><td style = \"text-align: right;\">0.189244</td></tr><tr><td class = \"rowNumber\" style = \"font-weight: bold; text-align: right;\">5</td><td style = \"text-align: right;\">5</td><td style = \"text-align: left;\">3</td><td style = \"text-align: left;\">7</td><td style = \"text-align: right;\">1</td><td style = \"text-align: right;\">1</td><td style = \"text-align: right;\">971.048</td><td style = \"text-align: right;\">0.198458</td></tr><tr><td class = \"rowNumber\" style = \"font-weight: bold; text-align: right;\">6</td><td style = \"text-align: right;\">6</td><td style = \"text-align: left;\">6</td><td style = \"text-align: left;\">7</td><td style = \"text-align: right;\">1</td><td style = \"text-align: right;\">1</td><td style = \"text-align: right;\">605.283</td><td style = \"text-align: right;\">0.123705</td></tr><tr><td class = \"rowNumber\" style = \"font-weight: bold; text-align: right;\">7</td><td style = \"text-align: right;\">7</td><td style = \"text-align: left;\">2</td><td style = \"text-align: left;\">4</td><td style = \"text-align: right;\">2</td><td style = \"text-align: right;\">2</td><td style = \"text-align: right;\">184.043</td><td style = \"text-align: right;\">0.0376137</td></tr><tr><td class = \"rowNumber\" style = \"font-weight: bold; text-align: right;\">8</td><td style = \"text-align: right;\">8</td><td style = \"text-align: left;\">2</td><td style = \"text-align: left;\">5</td><td style = \"text-align: right;\">2</td><td style = \"text-align: right;\">2</td><td style = \"text-align: right;\">495.579</td><td style = \"text-align: right;\">0.101284</td></tr><tr><td class = \"rowNumber\" style = \"font-weight: bold; text-align: right;\">9</td><td style = \"text-align: right;\">9</td><td style = \"text-align: left;\">4</td><td style = \"text-align: left;\">5</td><td style = \"text-align: right;\">2</td><td style = \"text-align: right;\">2</td><td style = \"text-align: right;\">322.054</td><td style = \"text-align: right;\">0.0658197</td></tr></tbody></table></div>"
      ],
      "text/latex": [
       "\\begin{tabular}{r|ccccccc}\n",
       "\t& id & f\\_node & t\\_node & f\\_area & t\\_area & length & x\\\\\n",
       "\t\\hline\n",
       "\t& Int64 & Any & Any & Int64 & Int64 & Float64 & Float64\\\\\n",
       "\t\\hline\n",
       "\t1 & 1 & 1 & 3 & 1 & 1 & 1167.18 & 0.238543 \\\\\n",
       "\t2 & 2 & 1 & 6 & 1 & 1 & 296.174 & 0.0605306 \\\\\n",
       "\t3 & 3 & 1 & 7 & 1 & 1 & 544.403 & 0.111262 \\\\\n",
       "\t4 & 4 & 3 & 6 & 1 & 1 & 925.963 & 0.189244 \\\\\n",
       "\t5 & 5 & 3 & 7 & 1 & 1 & 971.048 & 0.198458 \\\\\n",
       "\t6 & 6 & 6 & 7 & 1 & 1 & 605.283 & 0.123705 \\\\\n",
       "\t7 & 7 & 2 & 4 & 2 & 2 & 184.043 & 0.0376137 \\\\\n",
       "\t8 & 8 & 2 & 5 & 2 & 2 & 495.579 & 0.101284 \\\\\n",
       "\t9 & 9 & 4 & 5 & 2 & 2 & 322.054 & 0.0658197 \\\\\n",
       "\\end{tabular}\n"
      ],
      "text/plain": [
       "\u001b[1m9×7 DataFrame\u001b[0m\n",
       "\u001b[1m Row \u001b[0m│\u001b[1m id    \u001b[0m\u001b[1m f_node \u001b[0m\u001b[1m t_node \u001b[0m\u001b[1m f_area \u001b[0m\u001b[1m t_area \u001b[0m\u001b[1m length   \u001b[0m\u001b[1m x         \u001b[0m\n",
       "     │\u001b[90m Int64 \u001b[0m\u001b[90m Any    \u001b[0m\u001b[90m Any    \u001b[0m\u001b[90m Int64  \u001b[0m\u001b[90m Int64  \u001b[0m\u001b[90m Float64  \u001b[0m\u001b[90m Float64   \u001b[0m\n",
       "─────┼────────────────────────────────────────────────────────────\n",
       "   1 │     1  1       3            1       1  1167.18   0.238543\n",
       "   2 │     2  1       6            1       1   296.174  0.0605306\n",
       "   3 │     3  1       7            1       1   544.403  0.111262\n",
       "   4 │     4  3       6            1       1   925.963  0.189244\n",
       "   5 │     5  3       7            1       1   971.048  0.198458\n",
       "   6 │     6  6       7            1       1   605.283  0.123705\n",
       "   7 │     7  2       4            2       2   184.043  0.0376137\n",
       "   8 │     8  2       5            2       2   495.579  0.101284\n",
       "   9 │     9  4       5            2       2   322.054  0.0658197"
      ]
     },
     "metadata": {},
     "output_type": "display_data"
    }
   ],
   "source": [
    "fullcac = getFullCandidateLines(nodes,DataFrame();ignore_area=false,hvdc=false,kv_nom=400)"
   ]
  },
  {
   "cell_type": "markdown",
   "metadata": {},
   "source": [
    "## Get full candidate HVDC lines"
   ]
  },
  {
   "cell_type": "code",
   "execution_count": 4,
   "metadata": {},
   "outputs": [
    {
     "data": {
      "text/html": [
       "<div><div style = \"float: left;\"><span>21×7 DataFrame</span></div><div style = \"clear: both;\"></div></div><div class = \"data-frame\" style = \"overflow-x: scroll;\"><table class = \"data-frame\" style = \"margin-bottom: 6px;\"><thead><tr class = \"header\"><th class = \"rowNumber\" style = \"font-weight: bold; text-align: right;\">Row</th><th style = \"text-align: left;\">id</th><th style = \"text-align: left;\">f_node</th><th style = \"text-align: left;\">t_node</th><th style = \"text-align: left;\">f_area</th><th style = \"text-align: left;\">t_area</th><th style = \"text-align: left;\">length</th><th style = \"text-align: left;\">r</th></tr><tr class = \"subheader headerLastRow\"><th class = \"rowNumber\" style = \"font-weight: bold; text-align: right;\"></th><th title = \"Int64\" style = \"text-align: left;\">Int64</th><th title = \"Int64\" style = \"text-align: left;\">Int64</th><th title = \"Int64\" style = \"text-align: left;\">Int64</th><th title = \"Int64\" style = \"text-align: left;\">Int64</th><th title = \"Int64\" style = \"text-align: left;\">Int64</th><th title = \"Float64\" style = \"text-align: left;\">Float64</th><th title = \"Float64\" style = \"text-align: left;\">Float64</th></tr></thead><tbody><tr><td class = \"rowNumber\" style = \"font-weight: bold; text-align: right;\">1</td><td style = \"text-align: right;\">1</td><td style = \"text-align: right;\">1</td><td style = \"text-align: right;\">2</td><td style = \"text-align: right;\">1</td><td style = \"text-align: right;\">2</td><td style = \"text-align: right;\">1006.15</td><td style = \"text-align: right;\">0.0237702</td></tr><tr><td class = \"rowNumber\" style = \"font-weight: bold; text-align: right;\">2</td><td style = \"text-align: right;\">2</td><td style = \"text-align: right;\">1</td><td style = \"text-align: right;\">3</td><td style = \"text-align: right;\">1</td><td style = \"text-align: right;\">1</td><td style = \"text-align: right;\">1167.18</td><td style = \"text-align: right;\">0.0275747</td></tr><tr><td class = \"rowNumber\" style = \"font-weight: bold; text-align: right;\">3</td><td style = \"text-align: right;\">3</td><td style = \"text-align: right;\">1</td><td style = \"text-align: right;\">4</td><td style = \"text-align: right;\">1</td><td style = \"text-align: right;\">2</td><td style = \"text-align: right;\">982.022</td><td style = \"text-align: right;\">0.0232003</td></tr><tr><td class = \"rowNumber\" style = \"font-weight: bold; text-align: right;\">4</td><td style = \"text-align: right;\">4</td><td style = \"text-align: right;\">1</td><td style = \"text-align: right;\">5</td><td style = \"text-align: right;\">1</td><td style = \"text-align: right;\">2</td><td style = \"text-align: right;\">885.507</td><td style = \"text-align: right;\">0.0209201</td></tr><tr><td class = \"rowNumber\" style = \"font-weight: bold; text-align: right;\">5</td><td style = \"text-align: right;\">5</td><td style = \"text-align: right;\">1</td><td style = \"text-align: right;\">6</td><td style = \"text-align: right;\">1</td><td style = \"text-align: right;\">1</td><td style = \"text-align: right;\">296.174</td><td style = \"text-align: right;\">0.00699712</td></tr><tr><td class = \"rowNumber\" style = \"font-weight: bold; text-align: right;\">6</td><td style = \"text-align: right;\">6</td><td style = \"text-align: right;\">1</td><td style = \"text-align: right;\">7</td><td style = \"text-align: right;\">1</td><td style = \"text-align: right;\">1</td><td style = \"text-align: right;\">544.403</td><td style = \"text-align: right;\">0.0128615</td></tr><tr><td class = \"rowNumber\" style = \"font-weight: bold; text-align: right;\">7</td><td style = \"text-align: right;\">7</td><td style = \"text-align: right;\">2</td><td style = \"text-align: right;\">3</td><td style = \"text-align: right;\">2</td><td style = \"text-align: right;\">1</td><td style = \"text-align: right;\">368.546</td><td style = \"text-align: right;\">0.00870689</td></tr><tr><td class = \"rowNumber\" style = \"font-weight: bold; text-align: right;\">8</td><td style = \"text-align: right;\">8</td><td style = \"text-align: right;\">2</td><td style = \"text-align: right;\">4</td><td style = \"text-align: right;\">2</td><td style = \"text-align: right;\">2</td><td style = \"text-align: right;\">184.043</td><td style = \"text-align: right;\">0.004348</td></tr><tr><td class = \"rowNumber\" style = \"font-weight: bold; text-align: right;\">9</td><td style = \"text-align: right;\">9</td><td style = \"text-align: right;\">2</td><td style = \"text-align: right;\">5</td><td style = \"text-align: right;\">2</td><td style = \"text-align: right;\">2</td><td style = \"text-align: right;\">495.579</td><td style = \"text-align: right;\">0.0117081</td></tr><tr><td class = \"rowNumber\" style = \"font-weight: bold; text-align: right;\">10</td><td style = \"text-align: right;\">10</td><td style = \"text-align: right;\">2</td><td style = \"text-align: right;\">6</td><td style = \"text-align: right;\">2</td><td style = \"text-align: right;\">1</td><td style = \"text-align: right;\">721.217</td><td style = \"text-align: right;\">0.0170388</td></tr><tr><td class = \"rowNumber\" style = \"font-weight: bold; text-align: right;\">11</td><td style = \"text-align: right;\">11</td><td style = \"text-align: right;\">2</td><td style = \"text-align: right;\">7</td><td style = \"text-align: right;\">2</td><td style = \"text-align: right;\">1</td><td style = \"text-align: right;\">997.876</td><td style = \"text-align: right;\">0.0235748</td></tr><tr><td class = \"rowNumber\" style = \"font-weight: bold; text-align: right;\">12</td><td style = \"text-align: right;\">12</td><td style = \"text-align: right;\">3</td><td style = \"text-align: right;\">4</td><td style = \"text-align: right;\">1</td><td style = \"text-align: right;\">2</td><td style = \"text-align: right;\">552.267</td><td style = \"text-align: right;\">0.0130473</td></tr><tr><td class = \"rowNumber\" style = \"font-weight: bold; text-align: right;\">13</td><td style = \"text-align: right;\">13</td><td style = \"text-align: right;\">3</td><td style = \"text-align: right;\">5</td><td style = \"text-align: right;\">1</td><td style = \"text-align: right;\">2</td><td style = \"text-align: right;\">859.942</td><td style = \"text-align: right;\">0.0203161</td></tr><tr><td class = \"rowNumber\" style = \"font-weight: bold; text-align: right;\">14</td><td style = \"text-align: right;\">14</td><td style = \"text-align: right;\">3</td><td style = \"text-align: right;\">6</td><td style = \"text-align: right;\">1</td><td style = \"text-align: right;\">1</td><td style = \"text-align: right;\">925.963</td><td style = \"text-align: right;\">0.0218759</td></tr><tr><td class = \"rowNumber\" style = \"font-weight: bold; text-align: right;\">15</td><td style = \"text-align: right;\">15</td><td style = \"text-align: right;\">3</td><td style = \"text-align: right;\">7</td><td style = \"text-align: right;\">1</td><td style = \"text-align: right;\">1</td><td style = \"text-align: right;\">971.048</td><td style = \"text-align: right;\">0.022941</td></tr><tr><td class = \"rowNumber\" style = \"font-weight: bold; text-align: right;\">16</td><td style = \"text-align: right;\">16</td><td style = \"text-align: right;\">4</td><td style = \"text-align: right;\">5</td><td style = \"text-align: right;\">2</td><td style = \"text-align: right;\">2</td><td style = \"text-align: right;\">322.054</td><td style = \"text-align: right;\">0.00760852</td></tr><tr><td class = \"rowNumber\" style = \"font-weight: bold; text-align: right;\">17</td><td style = \"text-align: right;\">17</td><td style = \"text-align: right;\">4</td><td style = \"text-align: right;\">6</td><td style = \"text-align: right;\">2</td><td style = \"text-align: right;\">1</td><td style = \"text-align: right;\">686.348</td><td style = \"text-align: right;\">0.016215</td></tr><tr><td class = \"rowNumber\" style = \"font-weight: bold; text-align: right;\">18</td><td style = \"text-align: right;\">18</td><td style = \"text-align: right;\">4</td><td style = \"text-align: right;\">7</td><td style = \"text-align: right;\">2</td><td style = \"text-align: right;\">1</td><td style = \"text-align: right;\">1071.68</td><td style = \"text-align: right;\">0.0253184</td></tr><tr><td class = \"rowNumber\" style = \"font-weight: bold; text-align: right;\">19</td><td style = \"text-align: right;\">19</td><td style = \"text-align: right;\">5</td><td style = \"text-align: right;\">6</td><td style = \"text-align: right;\">2</td><td style = \"text-align: right;\">1</td><td style = \"text-align: right;\">606.802</td><td style = \"text-align: right;\">0.0143357</td></tr><tr><td class = \"rowNumber\" style = \"font-weight: bold; text-align: right;\">20</td><td style = \"text-align: right;\">20</td><td style = \"text-align: right;\">5</td><td style = \"text-align: right;\">7</td><td style = \"text-align: right;\">2</td><td style = \"text-align: right;\">1</td><td style = \"text-align: right;\">1139.17</td><td style = \"text-align: right;\">0.0269129</td></tr><tr><td class = \"rowNumber\" style = \"font-weight: bold; text-align: right;\">21</td><td style = \"text-align: right;\">21</td><td style = \"text-align: right;\">6</td><td style = \"text-align: right;\">7</td><td style = \"text-align: right;\">1</td><td style = \"text-align: right;\">1</td><td style = \"text-align: right;\">605.283</td><td style = \"text-align: right;\">0.0142998</td></tr></tbody></table></div>"
      ],
      "text/latex": [
       "\\begin{tabular}{r|ccccccc}\n",
       "\t& id & f\\_node & t\\_node & f\\_area & t\\_area & length & r\\\\\n",
       "\t\\hline\n",
       "\t& Int64 & Int64 & Int64 & Int64 & Int64 & Float64 & Float64\\\\\n",
       "\t\\hline\n",
       "\t1 & 1 & 1 & 2 & 1 & 2 & 1006.15 & 0.0237702 \\\\\n",
       "\t2 & 2 & 1 & 3 & 1 & 1 & 1167.18 & 0.0275747 \\\\\n",
       "\t3 & 3 & 1 & 4 & 1 & 2 & 982.022 & 0.0232003 \\\\\n",
       "\t4 & 4 & 1 & 5 & 1 & 2 & 885.507 & 0.0209201 \\\\\n",
       "\t5 & 5 & 1 & 6 & 1 & 1 & 296.174 & 0.00699712 \\\\\n",
       "\t6 & 6 & 1 & 7 & 1 & 1 & 544.403 & 0.0128615 \\\\\n",
       "\t7 & 7 & 2 & 3 & 2 & 1 & 368.546 & 0.00870689 \\\\\n",
       "\t8 & 8 & 2 & 4 & 2 & 2 & 184.043 & 0.004348 \\\\\n",
       "\t9 & 9 & 2 & 5 & 2 & 2 & 495.579 & 0.0117081 \\\\\n",
       "\t10 & 10 & 2 & 6 & 2 & 1 & 721.217 & 0.0170388 \\\\\n",
       "\t11 & 11 & 2 & 7 & 2 & 1 & 997.876 & 0.0235748 \\\\\n",
       "\t12 & 12 & 3 & 4 & 1 & 2 & 552.267 & 0.0130473 \\\\\n",
       "\t13 & 13 & 3 & 5 & 1 & 2 & 859.942 & 0.0203161 \\\\\n",
       "\t14 & 14 & 3 & 6 & 1 & 1 & 925.963 & 0.0218759 \\\\\n",
       "\t15 & 15 & 3 & 7 & 1 & 1 & 971.048 & 0.022941 \\\\\n",
       "\t16 & 16 & 4 & 5 & 2 & 2 & 322.054 & 0.00760852 \\\\\n",
       "\t17 & 17 & 4 & 6 & 2 & 1 & 686.348 & 0.016215 \\\\\n",
       "\t18 & 18 & 4 & 7 & 2 & 1 & 1071.68 & 0.0253184 \\\\\n",
       "\t19 & 19 & 5 & 6 & 2 & 1 & 606.802 & 0.0143357 \\\\\n",
       "\t20 & 20 & 5 & 7 & 2 & 1 & 1139.17 & 0.0269129 \\\\\n",
       "\t21 & 21 & 6 & 7 & 1 & 1 & 605.283 & 0.0142998 \\\\\n",
       "\\end{tabular}\n"
      ],
      "text/plain": [
       "\u001b[1m21×7 DataFrame\u001b[0m\n",
       "\u001b[1m Row \u001b[0m│\u001b[1m id    \u001b[0m\u001b[1m f_node \u001b[0m\u001b[1m t_node \u001b[0m\u001b[1m f_area \u001b[0m\u001b[1m t_area \u001b[0m\u001b[1m length   \u001b[0m\u001b[1m r          \u001b[0m\n",
       "     │\u001b[90m Int64 \u001b[0m\u001b[90m Int64  \u001b[0m\u001b[90m Int64  \u001b[0m\u001b[90m Int64  \u001b[0m\u001b[90m Int64  \u001b[0m\u001b[90m Float64  \u001b[0m\u001b[90m Float64    \u001b[0m\n",
       "─────┼─────────────────────────────────────────────────────────────\n",
       "   1 │     1       1       2       1       2  1006.15   0.0237702\n",
       "   2 │     2       1       3       1       1  1167.18   0.0275747\n",
       "   3 │     3       1       4       1       2   982.022  0.0232003\n",
       "   4 │     4       1       5       1       2   885.507  0.0209201\n",
       "   5 │     5       1       6       1       1   296.174  0.00699712\n",
       "   6 │     6       1       7       1       1   544.403  0.0128615\n",
       "   7 │     7       2       3       2       1   368.546  0.00870689\n",
       "   8 │     8       2       4       2       2   184.043  0.004348\n",
       "  ⋮  │   ⋮      ⋮       ⋮       ⋮       ⋮        ⋮          ⋮\n",
       "  15 │    15       3       7       1       1   971.048  0.022941\n",
       "  16 │    16       4       5       2       2   322.054  0.00760852\n",
       "  17 │    17       4       6       2       1   686.348  0.016215\n",
       "  18 │    18       4       7       2       1  1071.68   0.0253184\n",
       "  19 │    19       5       6       2       1   606.802  0.0143357\n",
       "  20 │    20       5       7       2       1  1139.17   0.0269129\n",
       "  21 │    21       6       7       1       1   605.283  0.0142998\n",
       "\u001b[36m                                                     6 rows omitted\u001b[0m"
      ]
     },
     "metadata": {},
     "output_type": "display_data"
    }
   ],
   "source": [
    "fullcdc = getFullCandidateLines(nodes,DataFrame();ignore_area=true,hvdc=true,kv_nom=400)"
   ]
  },
  {
   "cell_type": "markdown",
   "metadata": {},
   "source": [
    "## Display the name of nodes and areas for reporting"
   ]
  },
  {
   "cell_type": "markdown",
   "metadata": {},
   "source": [
    "### Candidate HVAC lines"
   ]
  },
  {
   "cell_type": "code",
   "execution_count": 5,
   "metadata": {},
   "outputs": [
    {
     "data": {
      "text/html": [
       "<div><div style = \"float: left;\"><span>9×7 DataFrame</span></div><div style = \"clear: both;\"></div></div><div class = \"data-frame\" style = \"overflow-x: scroll;\"><table class = \"data-frame\" style = \"margin-bottom: 6px;\"><thead><tr class = \"header\"><th class = \"rowNumber\" style = \"font-weight: bold; text-align: right;\">Row</th><th style = \"text-align: left;\">id</th><th style = \"text-align: left;\">f_node</th><th style = \"text-align: left;\">t_node</th><th style = \"text-align: left;\">f_area</th><th style = \"text-align: left;\">t_area</th><th style = \"text-align: left;\">length</th><th style = \"text-align: left;\">x</th></tr><tr class = \"subheader headerLastRow\"><th class = \"rowNumber\" style = \"font-weight: bold; text-align: right;\"></th><th title = \"Int64\" style = \"text-align: left;\">Int64</th><th title = \"String15\" style = \"text-align: left;\">String15</th><th title = \"String15\" style = \"text-align: left;\">String15</th><th title = \"String15\" style = \"text-align: left;\">String15</th><th title = \"String15\" style = \"text-align: left;\">String15</th><th title = \"Float64\" style = \"text-align: left;\">Float64</th><th title = \"Float64\" style = \"text-align: left;\">Float64</th></tr></thead><tbody><tr><td class = \"rowNumber\" style = \"font-weight: bold; text-align: right;\">1</td><td style = \"text-align: right;\">1</td><td style = \"text-align: left;\">Denmark</td><td style = \"text-align: left;\">Finland</td><td style = \"text-align: left;\">Denmark</td><td style = \"text-align: left;\">Denmark</td><td style = \"text-align: right;\">1167.18</td><td style = \"text-align: right;\">0.238543</td></tr><tr><td class = \"rowNumber\" style = \"font-weight: bold; text-align: right;\">2</td><td style = \"text-align: right;\">2</td><td style = \"text-align: left;\">Denmark</td><td style = \"text-align: left;\">Sweden</td><td style = \"text-align: left;\">Denmark</td><td style = \"text-align: left;\">Denmark</td><td style = \"text-align: right;\">296.174</td><td style = \"text-align: right;\">0.0605306</td></tr><tr><td class = \"rowNumber\" style = \"font-weight: bold; text-align: right;\">3</td><td style = \"text-align: right;\">3</td><td style = \"text-align: left;\">Denmark</td><td style = \"text-align: left;\">Norway</td><td style = \"text-align: left;\">Denmark</td><td style = \"text-align: left;\">Denmark</td><td style = \"text-align: right;\">544.403</td><td style = \"text-align: right;\">0.111262</td></tr><tr><td class = \"rowNumber\" style = \"font-weight: bold; text-align: right;\">4</td><td style = \"text-align: right;\">4</td><td style = \"text-align: left;\">Finland</td><td style = \"text-align: left;\">Sweden</td><td style = \"text-align: left;\">Denmark</td><td style = \"text-align: left;\">Denmark</td><td style = \"text-align: right;\">925.963</td><td style = \"text-align: right;\">0.189244</td></tr><tr><td class = \"rowNumber\" style = \"font-weight: bold; text-align: right;\">5</td><td style = \"text-align: right;\">5</td><td style = \"text-align: left;\">Finland</td><td style = \"text-align: left;\">Norway</td><td style = \"text-align: left;\">Denmark</td><td style = \"text-align: left;\">Denmark</td><td style = \"text-align: right;\">971.048</td><td style = \"text-align: right;\">0.198458</td></tr><tr><td class = \"rowNumber\" style = \"font-weight: bold; text-align: right;\">6</td><td style = \"text-align: right;\">6</td><td style = \"text-align: left;\">Sweden</td><td style = \"text-align: left;\">Norway</td><td style = \"text-align: left;\">Denmark</td><td style = \"text-align: left;\">Denmark</td><td style = \"text-align: right;\">605.283</td><td style = \"text-align: right;\">0.123705</td></tr><tr><td class = \"rowNumber\" style = \"font-weight: bold; text-align: right;\">7</td><td style = \"text-align: right;\">7</td><td style = \"text-align: left;\">Estonia</td><td style = \"text-align: left;\">Latvia</td><td style = \"text-align: left;\">Estonia</td><td style = \"text-align: left;\">Estonia</td><td style = \"text-align: right;\">184.043</td><td style = \"text-align: right;\">0.0376137</td></tr><tr><td class = \"rowNumber\" style = \"font-weight: bold; text-align: right;\">8</td><td style = \"text-align: right;\">8</td><td style = \"text-align: left;\">Estonia</td><td style = \"text-align: left;\">Lithuania</td><td style = \"text-align: left;\">Estonia</td><td style = \"text-align: left;\">Estonia</td><td style = \"text-align: right;\">495.579</td><td style = \"text-align: right;\">0.101284</td></tr><tr><td class = \"rowNumber\" style = \"font-weight: bold; text-align: right;\">9</td><td style = \"text-align: right;\">9</td><td style = \"text-align: left;\">Latvia</td><td style = \"text-align: left;\">Lithuania</td><td style = \"text-align: left;\">Estonia</td><td style = \"text-align: left;\">Estonia</td><td style = \"text-align: right;\">322.054</td><td style = \"text-align: right;\">0.0658197</td></tr></tbody></table></div>"
      ],
      "text/latex": [
       "\\begin{tabular}{r|ccccccc}\n",
       "\t& id & f\\_node & t\\_node & f\\_area & t\\_area & length & x\\\\\n",
       "\t\\hline\n",
       "\t& Int64 & String15 & String15 & String15 & String15 & Float64 & Float64\\\\\n",
       "\t\\hline\n",
       "\t1 & 1 & Denmark & Finland & Denmark & Denmark & 1167.18 & 0.238543 \\\\\n",
       "\t2 & 2 & Denmark & Sweden & Denmark & Denmark & 296.174 & 0.0605306 \\\\\n",
       "\t3 & 3 & Denmark & Norway & Denmark & Denmark & 544.403 & 0.111262 \\\\\n",
       "\t4 & 4 & Finland & Sweden & Denmark & Denmark & 925.963 & 0.189244 \\\\\n",
       "\t5 & 5 & Finland & Norway & Denmark & Denmark & 971.048 & 0.198458 \\\\\n",
       "\t6 & 6 & Sweden & Norway & Denmark & Denmark & 605.283 & 0.123705 \\\\\n",
       "\t7 & 7 & Estonia & Latvia & Estonia & Estonia & 184.043 & 0.0376137 \\\\\n",
       "\t8 & 8 & Estonia & Lithuania & Estonia & Estonia & 495.579 & 0.101284 \\\\\n",
       "\t9 & 9 & Latvia & Lithuania & Estonia & Estonia & 322.054 & 0.0658197 \\\\\n",
       "\\end{tabular}\n"
      ],
      "text/plain": [
       "\u001b[1m9×7 DataFrame\u001b[0m\n",
       "\u001b[1m Row \u001b[0m│\u001b[1m id    \u001b[0m\u001b[1m f_node   \u001b[0m\u001b[1m t_node    \u001b[0m\u001b[1m f_area   \u001b[0m\u001b[1m t_area   \u001b[0m\u001b[1m length   \u001b[0m\u001b[1m x         \u001b[0m\n",
       "     │\u001b[90m Int64 \u001b[0m\u001b[90m String15 \u001b[0m\u001b[90m String15  \u001b[0m\u001b[90m String15 \u001b[0m\u001b[90m String15 \u001b[0m\u001b[90m Float64  \u001b[0m\u001b[90m Float64   \u001b[0m\n",
       "─────┼─────────────────────────────────────────────────────────────────────\n",
       "   1 │     1  Denmark   Finland    Denmark   Denmark   1167.18   0.238543\n",
       "   2 │     2  Denmark   Sweden     Denmark   Denmark    296.174  0.0605306\n",
       "   3 │     3  Denmark   Norway     Denmark   Denmark    544.403  0.111262\n",
       "   4 │     4  Finland   Sweden     Denmark   Denmark    925.963  0.189244\n",
       "   5 │     5  Finland   Norway     Denmark   Denmark    971.048  0.198458\n",
       "   6 │     6  Sweden    Norway     Denmark   Denmark    605.283  0.123705\n",
       "   7 │     7  Estonia   Latvia     Estonia   Estonia    184.043  0.0376137\n",
       "   8 │     8  Estonia   Lithuania  Estonia   Estonia    495.579  0.101284\n",
       "   9 │     9  Latvia    Lithuania  Estonia   Estonia    322.054  0.0658197"
      ]
     },
     "metadata": {},
     "output_type": "display_data"
    }
   ],
   "source": [
    "tablefullcac = copy(fullcac)\n",
    "tablefullcac.f_node = nodes[tablefullcac.f_node,:name]\n",
    "tablefullcac.t_node = nodes[tablefullcac.t_node,:name]\n",
    "tablefullcac.f_area = nodes[tablefullcac.f_area,:name]\n",
    "tablefullcac.t_area = nodes[tablefullcac.t_area,:name]\n",
    "tablefullcac"
   ]
  },
  {
   "cell_type": "markdown",
   "metadata": {},
   "source": [
    "### Candidate HVDC lines"
   ]
  },
  {
   "cell_type": "code",
   "execution_count": 6,
   "metadata": {},
   "outputs": [
    {
     "data": {
      "text/html": [
       "<div><div style = \"float: left;\"><span>21×7 DataFrame</span></div><div style = \"clear: both;\"></div></div><div class = \"data-frame\" style = \"overflow-x: scroll;\"><table class = \"data-frame\" style = \"margin-bottom: 6px;\"><thead><tr class = \"header\"><th class = \"rowNumber\" style = \"font-weight: bold; text-align: right;\">Row</th><th style = \"text-align: left;\">id</th><th style = \"text-align: left;\">f_node</th><th style = \"text-align: left;\">t_node</th><th style = \"text-align: left;\">f_area</th><th style = \"text-align: left;\">t_area</th><th style = \"text-align: left;\">length</th><th style = \"text-align: left;\">r</th></tr><tr class = \"subheader headerLastRow\"><th class = \"rowNumber\" style = \"font-weight: bold; text-align: right;\"></th><th title = \"Int64\" style = \"text-align: left;\">Int64</th><th title = \"String15\" style = \"text-align: left;\">String15</th><th title = \"String15\" style = \"text-align: left;\">String15</th><th title = \"String15\" style = \"text-align: left;\">String15</th><th title = \"String15\" style = \"text-align: left;\">String15</th><th title = \"Float64\" style = \"text-align: left;\">Float64</th><th title = \"Float64\" style = \"text-align: left;\">Float64</th></tr></thead><tbody><tr><td class = \"rowNumber\" style = \"font-weight: bold; text-align: right;\">1</td><td style = \"text-align: right;\">1</td><td style = \"text-align: left;\">Denmark</td><td style = \"text-align: left;\">Estonia</td><td style = \"text-align: left;\">Denmark</td><td style = \"text-align: left;\">Estonia</td><td style = \"text-align: right;\">1006.15</td><td style = \"text-align: right;\">0.0237702</td></tr><tr><td class = \"rowNumber\" style = \"font-weight: bold; text-align: right;\">2</td><td style = \"text-align: right;\">2</td><td style = \"text-align: left;\">Denmark</td><td style = \"text-align: left;\">Finland</td><td style = \"text-align: left;\">Denmark</td><td style = \"text-align: left;\">Denmark</td><td style = \"text-align: right;\">1167.18</td><td style = \"text-align: right;\">0.0275747</td></tr><tr><td class = \"rowNumber\" style = \"font-weight: bold; text-align: right;\">3</td><td style = \"text-align: right;\">3</td><td style = \"text-align: left;\">Denmark</td><td style = \"text-align: left;\">Latvia</td><td style = \"text-align: left;\">Denmark</td><td style = \"text-align: left;\">Estonia</td><td style = \"text-align: right;\">982.022</td><td style = \"text-align: right;\">0.0232003</td></tr><tr><td class = \"rowNumber\" style = \"font-weight: bold; text-align: right;\">4</td><td style = \"text-align: right;\">4</td><td style = \"text-align: left;\">Denmark</td><td style = \"text-align: left;\">Lithuania</td><td style = \"text-align: left;\">Denmark</td><td style = \"text-align: left;\">Estonia</td><td style = \"text-align: right;\">885.507</td><td style = \"text-align: right;\">0.0209201</td></tr><tr><td class = \"rowNumber\" style = \"font-weight: bold; text-align: right;\">5</td><td style = \"text-align: right;\">5</td><td style = \"text-align: left;\">Denmark</td><td style = \"text-align: left;\">Sweden</td><td style = \"text-align: left;\">Denmark</td><td style = \"text-align: left;\">Denmark</td><td style = \"text-align: right;\">296.174</td><td style = \"text-align: right;\">0.00699712</td></tr><tr><td class = \"rowNumber\" style = \"font-weight: bold; text-align: right;\">6</td><td style = \"text-align: right;\">6</td><td style = \"text-align: left;\">Denmark</td><td style = \"text-align: left;\">Norway</td><td style = \"text-align: left;\">Denmark</td><td style = \"text-align: left;\">Denmark</td><td style = \"text-align: right;\">544.403</td><td style = \"text-align: right;\">0.0128615</td></tr><tr><td class = \"rowNumber\" style = \"font-weight: bold; text-align: right;\">7</td><td style = \"text-align: right;\">7</td><td style = \"text-align: left;\">Estonia</td><td style = \"text-align: left;\">Finland</td><td style = \"text-align: left;\">Estonia</td><td style = \"text-align: left;\">Denmark</td><td style = \"text-align: right;\">368.546</td><td style = \"text-align: right;\">0.00870689</td></tr><tr><td class = \"rowNumber\" style = \"font-weight: bold; text-align: right;\">8</td><td style = \"text-align: right;\">8</td><td style = \"text-align: left;\">Estonia</td><td style = \"text-align: left;\">Latvia</td><td style = \"text-align: left;\">Estonia</td><td style = \"text-align: left;\">Estonia</td><td style = \"text-align: right;\">184.043</td><td style = \"text-align: right;\">0.004348</td></tr><tr><td class = \"rowNumber\" style = \"font-weight: bold; text-align: right;\">9</td><td style = \"text-align: right;\">9</td><td style = \"text-align: left;\">Estonia</td><td style = \"text-align: left;\">Lithuania</td><td style = \"text-align: left;\">Estonia</td><td style = \"text-align: left;\">Estonia</td><td style = \"text-align: right;\">495.579</td><td style = \"text-align: right;\">0.0117081</td></tr><tr><td class = \"rowNumber\" style = \"font-weight: bold; text-align: right;\">10</td><td style = \"text-align: right;\">10</td><td style = \"text-align: left;\">Estonia</td><td style = \"text-align: left;\">Sweden</td><td style = \"text-align: left;\">Estonia</td><td style = \"text-align: left;\">Denmark</td><td style = \"text-align: right;\">721.217</td><td style = \"text-align: right;\">0.0170388</td></tr><tr><td class = \"rowNumber\" style = \"font-weight: bold; text-align: right;\">11</td><td style = \"text-align: right;\">11</td><td style = \"text-align: left;\">Estonia</td><td style = \"text-align: left;\">Norway</td><td style = \"text-align: left;\">Estonia</td><td style = \"text-align: left;\">Denmark</td><td style = \"text-align: right;\">997.876</td><td style = \"text-align: right;\">0.0235748</td></tr><tr><td class = \"rowNumber\" style = \"font-weight: bold; text-align: right;\">12</td><td style = \"text-align: right;\">12</td><td style = \"text-align: left;\">Finland</td><td style = \"text-align: left;\">Latvia</td><td style = \"text-align: left;\">Denmark</td><td style = \"text-align: left;\">Estonia</td><td style = \"text-align: right;\">552.267</td><td style = \"text-align: right;\">0.0130473</td></tr><tr><td class = \"rowNumber\" style = \"font-weight: bold; text-align: right;\">13</td><td style = \"text-align: right;\">13</td><td style = \"text-align: left;\">Finland</td><td style = \"text-align: left;\">Lithuania</td><td style = \"text-align: left;\">Denmark</td><td style = \"text-align: left;\">Estonia</td><td style = \"text-align: right;\">859.942</td><td style = \"text-align: right;\">0.0203161</td></tr><tr><td class = \"rowNumber\" style = \"font-weight: bold; text-align: right;\">14</td><td style = \"text-align: right;\">14</td><td style = \"text-align: left;\">Finland</td><td style = \"text-align: left;\">Sweden</td><td style = \"text-align: left;\">Denmark</td><td style = \"text-align: left;\">Denmark</td><td style = \"text-align: right;\">925.963</td><td style = \"text-align: right;\">0.0218759</td></tr><tr><td class = \"rowNumber\" style = \"font-weight: bold; text-align: right;\">15</td><td style = \"text-align: right;\">15</td><td style = \"text-align: left;\">Finland</td><td style = \"text-align: left;\">Norway</td><td style = \"text-align: left;\">Denmark</td><td style = \"text-align: left;\">Denmark</td><td style = \"text-align: right;\">971.048</td><td style = \"text-align: right;\">0.022941</td></tr><tr><td class = \"rowNumber\" style = \"font-weight: bold; text-align: right;\">16</td><td style = \"text-align: right;\">16</td><td style = \"text-align: left;\">Latvia</td><td style = \"text-align: left;\">Lithuania</td><td style = \"text-align: left;\">Estonia</td><td style = \"text-align: left;\">Estonia</td><td style = \"text-align: right;\">322.054</td><td style = \"text-align: right;\">0.00760852</td></tr><tr><td class = \"rowNumber\" style = \"font-weight: bold; text-align: right;\">17</td><td style = \"text-align: right;\">17</td><td style = \"text-align: left;\">Latvia</td><td style = \"text-align: left;\">Sweden</td><td style = \"text-align: left;\">Estonia</td><td style = \"text-align: left;\">Denmark</td><td style = \"text-align: right;\">686.348</td><td style = \"text-align: right;\">0.016215</td></tr><tr><td class = \"rowNumber\" style = \"font-weight: bold; text-align: right;\">18</td><td style = \"text-align: right;\">18</td><td style = \"text-align: left;\">Latvia</td><td style = \"text-align: left;\">Norway</td><td style = \"text-align: left;\">Estonia</td><td style = \"text-align: left;\">Denmark</td><td style = \"text-align: right;\">1071.68</td><td style = \"text-align: right;\">0.0253184</td></tr><tr><td class = \"rowNumber\" style = \"font-weight: bold; text-align: right;\">19</td><td style = \"text-align: right;\">19</td><td style = \"text-align: left;\">Lithuania</td><td style = \"text-align: left;\">Sweden</td><td style = \"text-align: left;\">Estonia</td><td style = \"text-align: left;\">Denmark</td><td style = \"text-align: right;\">606.802</td><td style = \"text-align: right;\">0.0143357</td></tr><tr><td class = \"rowNumber\" style = \"font-weight: bold; text-align: right;\">20</td><td style = \"text-align: right;\">20</td><td style = \"text-align: left;\">Lithuania</td><td style = \"text-align: left;\">Norway</td><td style = \"text-align: left;\">Estonia</td><td style = \"text-align: left;\">Denmark</td><td style = \"text-align: right;\">1139.17</td><td style = \"text-align: right;\">0.0269129</td></tr><tr><td class = \"rowNumber\" style = \"font-weight: bold; text-align: right;\">21</td><td style = \"text-align: right;\">21</td><td style = \"text-align: left;\">Sweden</td><td style = \"text-align: left;\">Norway</td><td style = \"text-align: left;\">Denmark</td><td style = \"text-align: left;\">Denmark</td><td style = \"text-align: right;\">605.283</td><td style = \"text-align: right;\">0.0142998</td></tr></tbody></table></div>"
      ],
      "text/latex": [
       "\\begin{tabular}{r|ccccccc}\n",
       "\t& id & f\\_node & t\\_node & f\\_area & t\\_area & length & r\\\\\n",
       "\t\\hline\n",
       "\t& Int64 & String15 & String15 & String15 & String15 & Float64 & Float64\\\\\n",
       "\t\\hline\n",
       "\t1 & 1 & Denmark & Estonia & Denmark & Estonia & 1006.15 & 0.0237702 \\\\\n",
       "\t2 & 2 & Denmark & Finland & Denmark & Denmark & 1167.18 & 0.0275747 \\\\\n",
       "\t3 & 3 & Denmark & Latvia & Denmark & Estonia & 982.022 & 0.0232003 \\\\\n",
       "\t4 & 4 & Denmark & Lithuania & Denmark & Estonia & 885.507 & 0.0209201 \\\\\n",
       "\t5 & 5 & Denmark & Sweden & Denmark & Denmark & 296.174 & 0.00699712 \\\\\n",
       "\t6 & 6 & Denmark & Norway & Denmark & Denmark & 544.403 & 0.0128615 \\\\\n",
       "\t7 & 7 & Estonia & Finland & Estonia & Denmark & 368.546 & 0.00870689 \\\\\n",
       "\t8 & 8 & Estonia & Latvia & Estonia & Estonia & 184.043 & 0.004348 \\\\\n",
       "\t9 & 9 & Estonia & Lithuania & Estonia & Estonia & 495.579 & 0.0117081 \\\\\n",
       "\t10 & 10 & Estonia & Sweden & Estonia & Denmark & 721.217 & 0.0170388 \\\\\n",
       "\t11 & 11 & Estonia & Norway & Estonia & Denmark & 997.876 & 0.0235748 \\\\\n",
       "\t12 & 12 & Finland & Latvia & Denmark & Estonia & 552.267 & 0.0130473 \\\\\n",
       "\t13 & 13 & Finland & Lithuania & Denmark & Estonia & 859.942 & 0.0203161 \\\\\n",
       "\t14 & 14 & Finland & Sweden & Denmark & Denmark & 925.963 & 0.0218759 \\\\\n",
       "\t15 & 15 & Finland & Norway & Denmark & Denmark & 971.048 & 0.022941 \\\\\n",
       "\t16 & 16 & Latvia & Lithuania & Estonia & Estonia & 322.054 & 0.00760852 \\\\\n",
       "\t17 & 17 & Latvia & Sweden & Estonia & Denmark & 686.348 & 0.016215 \\\\\n",
       "\t18 & 18 & Latvia & Norway & Estonia & Denmark & 1071.68 & 0.0253184 \\\\\n",
       "\t19 & 19 & Lithuania & Sweden & Estonia & Denmark & 606.802 & 0.0143357 \\\\\n",
       "\t20 & 20 & Lithuania & Norway & Estonia & Denmark & 1139.17 & 0.0269129 \\\\\n",
       "\t21 & 21 & Sweden & Norway & Denmark & Denmark & 605.283 & 0.0142998 \\\\\n",
       "\\end{tabular}\n"
      ],
      "text/plain": [
       "\u001b[1m21×7 DataFrame\u001b[0m\n",
       "\u001b[1m Row \u001b[0m│\u001b[1m id    \u001b[0m\u001b[1m f_node    \u001b[0m\u001b[1m t_node    \u001b[0m\u001b[1m f_area   \u001b[0m\u001b[1m t_area   \u001b[0m\u001b[1m length   \u001b[0m\u001b[1m r          \u001b[0m\n",
       "     │\u001b[90m Int64 \u001b[0m\u001b[90m String15  \u001b[0m\u001b[90m String15  \u001b[0m\u001b[90m String15 \u001b[0m\u001b[90m String15 \u001b[0m\u001b[90m Float64  \u001b[0m\u001b[90m Float64    \u001b[0m\n",
       "─────┼───────────────────────────────────────────────────────────────────────\n",
       "   1 │     1  Denmark    Estonia    Denmark   Estonia   1006.15   0.0237702\n",
       "   2 │     2  Denmark    Finland    Denmark   Denmark   1167.18   0.0275747\n",
       "   3 │     3  Denmark    Latvia     Denmark   Estonia    982.022  0.0232003\n",
       "   4 │     4  Denmark    Lithuania  Denmark   Estonia    885.507  0.0209201\n",
       "   5 │     5  Denmark    Sweden     Denmark   Denmark    296.174  0.00699712\n",
       "   6 │     6  Denmark    Norway     Denmark   Denmark    544.403  0.0128615\n",
       "   7 │     7  Estonia    Finland    Estonia   Denmark    368.546  0.00870689\n",
       "   8 │     8  Estonia    Latvia     Estonia   Estonia    184.043  0.004348\n",
       "  ⋮  │   ⋮        ⋮          ⋮         ⋮         ⋮         ⋮          ⋮\n",
       "  15 │    15  Finland    Norway     Denmark   Denmark    971.048  0.022941\n",
       "  16 │    16  Latvia     Lithuania  Estonia   Estonia    322.054  0.00760852\n",
       "  17 │    17  Latvia     Sweden     Estonia   Denmark    686.348  0.016215\n",
       "  18 │    18  Latvia     Norway     Estonia   Denmark   1071.68   0.0253184\n",
       "  19 │    19  Lithuania  Sweden     Estonia   Denmark    606.802  0.0143357\n",
       "  20 │    20  Lithuania  Norway     Estonia   Denmark   1139.17   0.0269129\n",
       "  21 │    21  Sweden     Norway     Denmark   Denmark    605.283  0.0142998\n",
       "\u001b[36m                                                               6 rows omitted\u001b[0m"
      ]
     },
     "metadata": {},
     "output_type": "display_data"
    }
   ],
   "source": [
    "tablefullcdc = copy(fullcdc)\n",
    "tablefullcdc.f_node = nodes[tablefullcdc.f_node,:name]\n",
    "tablefullcdc.t_node = nodes[tablefullcdc.t_node,:name]\n",
    "tablefullcdc.f_area = nodes[tablefullcdc.f_area,:name]\n",
    "tablefullcdc.t_area = nodes[tablefullcdc.t_area,:name]\n",
    "tablefullcdc"
   ]
  },
  {
   "cell_type": "markdown",
   "metadata": {},
   "source": [
    "## Export data"
   ]
  },
  {
   "cell_type": "code",
   "execution_count": 7,
   "metadata": {},
   "outputs": [
    {
     "data": {
      "text/plain": [
       "\"../data/NordicBaltic/fullcdc.csv\""
      ]
     },
     "metadata": {},
     "output_type": "display_data"
    }
   ],
   "source": [
    "CSV.write(joinpath(\"..\",\"data\",\"NordicBaltic\",\"fullcac.csv\"),fullcac)\n",
    "CSV.write(joinpath(\"..\",\"data\",\"NordicBaltic\",\"fullcdc.csv\"),fullcdc)"
   ]
  },
  {
   "cell_type": "code",
   "execution_count": 8,
   "metadata": {},
   "outputs": [],
   "source": []
  }
 ],
 "metadata": {
  "kernelspec": {
   "display_name": "Julia 1.9.3",
   "language": "julia",
   "name": "julia-1.9"
  },
  "language_info": {
   "file_extension": ".jl",
   "mimetype": "application/julia",
   "name": "julia",
   "version": "1.9.3"
  }
 },
 "nbformat": 4,
 "nbformat_minor": 2
}
